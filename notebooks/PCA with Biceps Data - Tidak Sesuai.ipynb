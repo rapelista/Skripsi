{
 "cells": [
  {
   "cell_type": "code",
   "execution_count": 280,
   "id": "initial_id",
   "metadata": {
    "collapsed": true,
    "ExecuteTime": {
     "end_time": "2024-03-04T16:46:34.950901Z",
     "start_time": "2024-03-04T16:46:34.942923Z"
    }
   },
   "outputs": [],
   "source": [
    "import pandas as pd\n",
    "import numpy as np"
   ]
  },
  {
   "cell_type": "markdown",
   "source": [
    "## Preparing Data"
   ],
   "metadata": {
    "collapsed": false
   },
   "id": "279f9e6602a936b3"
  },
  {
   "cell_type": "markdown",
   "source": [
    "#### Data Gerakan Benar\n",
    "\n",
    "Mengambil data gerakan salah dan kelas dengan nilai 1 (True)"
   ],
   "metadata": {
    "collapsed": false
   },
   "id": "a986d18054b848ec"
  },
  {
   "cell_type": "code",
   "outputs": [
    {
     "data": {
      "text/plain": "     ax1   ay1   az1   gx1   gy1   gz1   ax2   ay2   az2   gx2   gy2   gz2  \\\n0   2.91  6.17  3.59 -1.67 -0.46  0.92  5.53  8.00 -1.73  0.31  0.16 -0.41   \n1   2.58  8.36  2.91  0.18  0.07 -0.21  5.77  7.74 -1.23 -0.14 -0.04 -0.07   \n2   4.09  6.41  4.38 -1.30 -0.25  0.87  5.13  8.39 -1.98  0.41  0.09 -0.29   \n3   3.58  7.54  3.47  0.51  0.13 -0.46  5.27  8.04 -1.34 -0.23 -0.09  0.00   \n4   4.02  6.64  4.09 -1.16 -0.05  0.92  5.04  8.26 -1.68  0.27  0.12 -0.38   \n..   ...   ...   ...   ...   ...   ...   ...   ...   ...   ...   ...   ...   \n68  2.23  7.04  4.24 -1.14 -0.53  0.22  5.80  7.47 -2.65  0.02 -0.15 -0.33   \n69  2.35  7.69  3.26 -0.87 -0.33  0.28  6.08  7.33 -2.43  0.02  0.03 -0.32   \n70  3.09  8.25  2.95  0.25 -0.06 -0.08  6.68  7.25 -2.25 -0.13 -0.03 -0.02   \n71  2.63  8.17  3.59 -0.46 -0.13  0.14  6.49  7.34 -2.60 -0.03 -0.04 -0.14   \n72  1.72  8.17  2.93  0.57  0.00 -0.20  7.20  6.72 -2.61 -0.20 -0.13  0.02   \n\n     ax3   ay3   az3   gx3   gy3   gz3  kelas  \n0  -0.22  9.47 -2.62 -0.06  0.02  0.01      1  \n1  -0.28  9.57 -2.27  0.00  0.12  0.03      1  \n2  -0.09  9.46 -2.35 -0.03  0.03  0.02      1  \n3  -0.18  9.62 -1.83  0.04  0.12 -0.02      1  \n4   0.18  9.50 -1.97 -0.02 -0.06  0.03      1  \n..   ...   ...   ...   ...   ...   ...    ...  \n68  0.14  9.63 -0.03  0.04 -0.14  0.00      1  \n69  0.38  9.56 -0.03  0.00  0.02  0.02      1  \n70  0.25  9.66 -0.33  0.04  0.04 -0.01      1  \n71  0.66  9.48  0.37 -0.02 -0.02 -0.02      1  \n72  0.11  9.59  0.44 -0.02  0.01 -0.03      1  \n\n[73 rows x 19 columns]",
      "text/html": "<div>\n<style scoped>\n    .dataframe tbody tr th:only-of-type {\n        vertical-align: middle;\n    }\n\n    .dataframe tbody tr th {\n        vertical-align: top;\n    }\n\n    .dataframe thead th {\n        text-align: right;\n    }\n</style>\n<table border=\"1\" class=\"dataframe\">\n  <thead>\n    <tr style=\"text-align: right;\">\n      <th></th>\n      <th>ax1</th>\n      <th>ay1</th>\n      <th>az1</th>\n      <th>gx1</th>\n      <th>gy1</th>\n      <th>gz1</th>\n      <th>ax2</th>\n      <th>ay2</th>\n      <th>az2</th>\n      <th>gx2</th>\n      <th>gy2</th>\n      <th>gz2</th>\n      <th>ax3</th>\n      <th>ay3</th>\n      <th>az3</th>\n      <th>gx3</th>\n      <th>gy3</th>\n      <th>gz3</th>\n      <th>kelas</th>\n    </tr>\n  </thead>\n  <tbody>\n    <tr>\n      <th>0</th>\n      <td>2.91</td>\n      <td>6.17</td>\n      <td>3.59</td>\n      <td>-1.67</td>\n      <td>-0.46</td>\n      <td>0.92</td>\n      <td>5.53</td>\n      <td>8.00</td>\n      <td>-1.73</td>\n      <td>0.31</td>\n      <td>0.16</td>\n      <td>-0.41</td>\n      <td>-0.22</td>\n      <td>9.47</td>\n      <td>-2.62</td>\n      <td>-0.06</td>\n      <td>0.02</td>\n      <td>0.01</td>\n      <td>1</td>\n    </tr>\n    <tr>\n      <th>1</th>\n      <td>2.58</td>\n      <td>8.36</td>\n      <td>2.91</td>\n      <td>0.18</td>\n      <td>0.07</td>\n      <td>-0.21</td>\n      <td>5.77</td>\n      <td>7.74</td>\n      <td>-1.23</td>\n      <td>-0.14</td>\n      <td>-0.04</td>\n      <td>-0.07</td>\n      <td>-0.28</td>\n      <td>9.57</td>\n      <td>-2.27</td>\n      <td>0.00</td>\n      <td>0.12</td>\n      <td>0.03</td>\n      <td>1</td>\n    </tr>\n    <tr>\n      <th>2</th>\n      <td>4.09</td>\n      <td>6.41</td>\n      <td>4.38</td>\n      <td>-1.30</td>\n      <td>-0.25</td>\n      <td>0.87</td>\n      <td>5.13</td>\n      <td>8.39</td>\n      <td>-1.98</td>\n      <td>0.41</td>\n      <td>0.09</td>\n      <td>-0.29</td>\n      <td>-0.09</td>\n      <td>9.46</td>\n      <td>-2.35</td>\n      <td>-0.03</td>\n      <td>0.03</td>\n      <td>0.02</td>\n      <td>1</td>\n    </tr>\n    <tr>\n      <th>3</th>\n      <td>3.58</td>\n      <td>7.54</td>\n      <td>3.47</td>\n      <td>0.51</td>\n      <td>0.13</td>\n      <td>-0.46</td>\n      <td>5.27</td>\n      <td>8.04</td>\n      <td>-1.34</td>\n      <td>-0.23</td>\n      <td>-0.09</td>\n      <td>0.00</td>\n      <td>-0.18</td>\n      <td>9.62</td>\n      <td>-1.83</td>\n      <td>0.04</td>\n      <td>0.12</td>\n      <td>-0.02</td>\n      <td>1</td>\n    </tr>\n    <tr>\n      <th>4</th>\n      <td>4.02</td>\n      <td>6.64</td>\n      <td>4.09</td>\n      <td>-1.16</td>\n      <td>-0.05</td>\n      <td>0.92</td>\n      <td>5.04</td>\n      <td>8.26</td>\n      <td>-1.68</td>\n      <td>0.27</td>\n      <td>0.12</td>\n      <td>-0.38</td>\n      <td>0.18</td>\n      <td>9.50</td>\n      <td>-1.97</td>\n      <td>-0.02</td>\n      <td>-0.06</td>\n      <td>0.03</td>\n      <td>1</td>\n    </tr>\n    <tr>\n      <th>...</th>\n      <td>...</td>\n      <td>...</td>\n      <td>...</td>\n      <td>...</td>\n      <td>...</td>\n      <td>...</td>\n      <td>...</td>\n      <td>...</td>\n      <td>...</td>\n      <td>...</td>\n      <td>...</td>\n      <td>...</td>\n      <td>...</td>\n      <td>...</td>\n      <td>...</td>\n      <td>...</td>\n      <td>...</td>\n      <td>...</td>\n      <td>...</td>\n    </tr>\n    <tr>\n      <th>68</th>\n      <td>2.23</td>\n      <td>7.04</td>\n      <td>4.24</td>\n      <td>-1.14</td>\n      <td>-0.53</td>\n      <td>0.22</td>\n      <td>5.80</td>\n      <td>7.47</td>\n      <td>-2.65</td>\n      <td>0.02</td>\n      <td>-0.15</td>\n      <td>-0.33</td>\n      <td>0.14</td>\n      <td>9.63</td>\n      <td>-0.03</td>\n      <td>0.04</td>\n      <td>-0.14</td>\n      <td>0.00</td>\n      <td>1</td>\n    </tr>\n    <tr>\n      <th>69</th>\n      <td>2.35</td>\n      <td>7.69</td>\n      <td>3.26</td>\n      <td>-0.87</td>\n      <td>-0.33</td>\n      <td>0.28</td>\n      <td>6.08</td>\n      <td>7.33</td>\n      <td>-2.43</td>\n      <td>0.02</td>\n      <td>0.03</td>\n      <td>-0.32</td>\n      <td>0.38</td>\n      <td>9.56</td>\n      <td>-0.03</td>\n      <td>0.00</td>\n      <td>0.02</td>\n      <td>0.02</td>\n      <td>1</td>\n    </tr>\n    <tr>\n      <th>70</th>\n      <td>3.09</td>\n      <td>8.25</td>\n      <td>2.95</td>\n      <td>0.25</td>\n      <td>-0.06</td>\n      <td>-0.08</td>\n      <td>6.68</td>\n      <td>7.25</td>\n      <td>-2.25</td>\n      <td>-0.13</td>\n      <td>-0.03</td>\n      <td>-0.02</td>\n      <td>0.25</td>\n      <td>9.66</td>\n      <td>-0.33</td>\n      <td>0.04</td>\n      <td>0.04</td>\n      <td>-0.01</td>\n      <td>1</td>\n    </tr>\n    <tr>\n      <th>71</th>\n      <td>2.63</td>\n      <td>8.17</td>\n      <td>3.59</td>\n      <td>-0.46</td>\n      <td>-0.13</td>\n      <td>0.14</td>\n      <td>6.49</td>\n      <td>7.34</td>\n      <td>-2.60</td>\n      <td>-0.03</td>\n      <td>-0.04</td>\n      <td>-0.14</td>\n      <td>0.66</td>\n      <td>9.48</td>\n      <td>0.37</td>\n      <td>-0.02</td>\n      <td>-0.02</td>\n      <td>-0.02</td>\n      <td>1</td>\n    </tr>\n    <tr>\n      <th>72</th>\n      <td>1.72</td>\n      <td>8.17</td>\n      <td>2.93</td>\n      <td>0.57</td>\n      <td>0.00</td>\n      <td>-0.20</td>\n      <td>7.20</td>\n      <td>6.72</td>\n      <td>-2.61</td>\n      <td>-0.20</td>\n      <td>-0.13</td>\n      <td>0.02</td>\n      <td>0.11</td>\n      <td>9.59</td>\n      <td>0.44</td>\n      <td>-0.02</td>\n      <td>0.01</td>\n      <td>-0.03</td>\n      <td>1</td>\n    </tr>\n  </tbody>\n</table>\n<p>73 rows × 19 columns</p>\n</div>"
     },
     "execution_count": 281,
     "metadata": {},
     "output_type": "execute_result"
    }
   ],
   "source": [
    "data_gerakan_benar = pd.read_csv(\"../data/gerakan-benar.csv\")\n",
    "data_gerakan_benar[\"kelas\"] = 1\n",
    "data_gerakan_benar"
   ],
   "metadata": {
    "collapsed": false,
    "ExecuteTime": {
     "end_time": "2024-03-04T16:46:35.053225Z",
     "start_time": "2024-03-04T16:46:35.008804Z"
    }
   },
   "id": "b54102d8adbc6473",
   "execution_count": 281
  },
  {
   "cell_type": "markdown",
   "source": [
    "#### Data Gerakan Salah\n",
    "\n",
    "Mengambil data gerakan salah dan kelas dengan nilai 0 (False)"
   ],
   "metadata": {
    "collapsed": false
   },
   "id": "52dcb64ffab41e1f"
  },
  {
   "cell_type": "code",
   "outputs": [
    {
     "data": {
      "text/plain": "      ax1    ay1   az1   gx1   gy1   gz1   ax2   ay2   az2   gx2   gy2   gz2  \\\n0    3.30  -6.13  5.30 -0.14 -0.10  0.07 -0.65  5.40  1.94  0.01  0.16  0.00   \n1    5.87  -2.27  6.23 -2.15  0.25  1.27  0.07  7.81  4.61  0.66  0.90 -0.36   \n2    3.25   0.26  4.64  0.41 -0.50 -0.15  0.22  7.40  5.04 -0.30 -0.11 -0.08   \n3    4.26  -5.44  6.57  2.04 -0.11 -0.96 -1.51  7.90  5.08 -0.18 -0.31  0.40   \n4    3.66 -10.31  4.25  0.03 -0.27 -0.14 -1.82  7.20  4.15  0.12 -0.06  0.46   \n..    ...    ...   ...   ...   ...   ...   ...   ...   ...   ...   ...   ...   \n95  10.55  -9.14  4.45  0.50  0.29 -0.54  4.86  8.96 -1.65  0.14  0.57  0.36   \n96   7.16   2.13 -1.98 -1.96  0.18  0.76  8.26  4.04  1.00 -0.67 -1.24 -1.15   \n97   9.42  -7.75  4.43  2.59  0.16 -2.19  7.10  8.49 -1.47  0.36  1.01  1.64   \n98   6.94   0.43  0.97 -2.89  0.30  1.45  7.56  6.11 -1.07 -0.82 -1.51 -1.38   \n99   6.93  -3.27  4.62  3.18 -0.19 -1.36  6.52  7.51 -1.49  0.59  1.33  1.25   \n\n     ax3   ay3   az3   gx3   gy3   gz3  kelas  \n0  -0.02  9.65 -1.23  0.03  0.08  0.03      0  \n1  -0.73  9.64 -1.35  0.12  0.16  0.09      0  \n2   0.23  9.55 -1.55  0.14 -0.05  0.03      0  \n3   0.03  9.57 -2.13 -0.14 -0.14  0.08      0  \n4   0.46  9.48 -2.38  0.09  0.09 -0.08      0  \n..   ...   ...   ...   ...   ...   ...    ...  \n95  1.32  9.75 -0.65 -0.01  0.00  0.01      0  \n96 -0.28  9.39  0.39  0.12  0.05  0.12      0  \n97  0.60  9.52 -0.28 -0.07 -0.05 -0.01      0  \n98  0.17  9.62  0.46  0.07  0.02  0.31      0  \n99  0.87  9.56  0.27 -0.04 -0.01 -0.09      0  \n\n[100 rows x 19 columns]",
      "text/html": "<div>\n<style scoped>\n    .dataframe tbody tr th:only-of-type {\n        vertical-align: middle;\n    }\n\n    .dataframe tbody tr th {\n        vertical-align: top;\n    }\n\n    .dataframe thead th {\n        text-align: right;\n    }\n</style>\n<table border=\"1\" class=\"dataframe\">\n  <thead>\n    <tr style=\"text-align: right;\">\n      <th></th>\n      <th>ax1</th>\n      <th>ay1</th>\n      <th>az1</th>\n      <th>gx1</th>\n      <th>gy1</th>\n      <th>gz1</th>\n      <th>ax2</th>\n      <th>ay2</th>\n      <th>az2</th>\n      <th>gx2</th>\n      <th>gy2</th>\n      <th>gz2</th>\n      <th>ax3</th>\n      <th>ay3</th>\n      <th>az3</th>\n      <th>gx3</th>\n      <th>gy3</th>\n      <th>gz3</th>\n      <th>kelas</th>\n    </tr>\n  </thead>\n  <tbody>\n    <tr>\n      <th>0</th>\n      <td>3.30</td>\n      <td>-6.13</td>\n      <td>5.30</td>\n      <td>-0.14</td>\n      <td>-0.10</td>\n      <td>0.07</td>\n      <td>-0.65</td>\n      <td>5.40</td>\n      <td>1.94</td>\n      <td>0.01</td>\n      <td>0.16</td>\n      <td>0.00</td>\n      <td>-0.02</td>\n      <td>9.65</td>\n      <td>-1.23</td>\n      <td>0.03</td>\n      <td>0.08</td>\n      <td>0.03</td>\n      <td>0</td>\n    </tr>\n    <tr>\n      <th>1</th>\n      <td>5.87</td>\n      <td>-2.27</td>\n      <td>6.23</td>\n      <td>-2.15</td>\n      <td>0.25</td>\n      <td>1.27</td>\n      <td>0.07</td>\n      <td>7.81</td>\n      <td>4.61</td>\n      <td>0.66</td>\n      <td>0.90</td>\n      <td>-0.36</td>\n      <td>-0.73</td>\n      <td>9.64</td>\n      <td>-1.35</td>\n      <td>0.12</td>\n      <td>0.16</td>\n      <td>0.09</td>\n      <td>0</td>\n    </tr>\n    <tr>\n      <th>2</th>\n      <td>3.25</td>\n      <td>0.26</td>\n      <td>4.64</td>\n      <td>0.41</td>\n      <td>-0.50</td>\n      <td>-0.15</td>\n      <td>0.22</td>\n      <td>7.40</td>\n      <td>5.04</td>\n      <td>-0.30</td>\n      <td>-0.11</td>\n      <td>-0.08</td>\n      <td>0.23</td>\n      <td>9.55</td>\n      <td>-1.55</td>\n      <td>0.14</td>\n      <td>-0.05</td>\n      <td>0.03</td>\n      <td>0</td>\n    </tr>\n    <tr>\n      <th>3</th>\n      <td>4.26</td>\n      <td>-5.44</td>\n      <td>6.57</td>\n      <td>2.04</td>\n      <td>-0.11</td>\n      <td>-0.96</td>\n      <td>-1.51</td>\n      <td>7.90</td>\n      <td>5.08</td>\n      <td>-0.18</td>\n      <td>-0.31</td>\n      <td>0.40</td>\n      <td>0.03</td>\n      <td>9.57</td>\n      <td>-2.13</td>\n      <td>-0.14</td>\n      <td>-0.14</td>\n      <td>0.08</td>\n      <td>0</td>\n    </tr>\n    <tr>\n      <th>4</th>\n      <td>3.66</td>\n      <td>-10.31</td>\n      <td>4.25</td>\n      <td>0.03</td>\n      <td>-0.27</td>\n      <td>-0.14</td>\n      <td>-1.82</td>\n      <td>7.20</td>\n      <td>4.15</td>\n      <td>0.12</td>\n      <td>-0.06</td>\n      <td>0.46</td>\n      <td>0.46</td>\n      <td>9.48</td>\n      <td>-2.38</td>\n      <td>0.09</td>\n      <td>0.09</td>\n      <td>-0.08</td>\n      <td>0</td>\n    </tr>\n    <tr>\n      <th>...</th>\n      <td>...</td>\n      <td>...</td>\n      <td>...</td>\n      <td>...</td>\n      <td>...</td>\n      <td>...</td>\n      <td>...</td>\n      <td>...</td>\n      <td>...</td>\n      <td>...</td>\n      <td>...</td>\n      <td>...</td>\n      <td>...</td>\n      <td>...</td>\n      <td>...</td>\n      <td>...</td>\n      <td>...</td>\n      <td>...</td>\n      <td>...</td>\n    </tr>\n    <tr>\n      <th>95</th>\n      <td>10.55</td>\n      <td>-9.14</td>\n      <td>4.45</td>\n      <td>0.50</td>\n      <td>0.29</td>\n      <td>-0.54</td>\n      <td>4.86</td>\n      <td>8.96</td>\n      <td>-1.65</td>\n      <td>0.14</td>\n      <td>0.57</td>\n      <td>0.36</td>\n      <td>1.32</td>\n      <td>9.75</td>\n      <td>-0.65</td>\n      <td>-0.01</td>\n      <td>0.00</td>\n      <td>0.01</td>\n      <td>0</td>\n    </tr>\n    <tr>\n      <th>96</th>\n      <td>7.16</td>\n      <td>2.13</td>\n      <td>-1.98</td>\n      <td>-1.96</td>\n      <td>0.18</td>\n      <td>0.76</td>\n      <td>8.26</td>\n      <td>4.04</td>\n      <td>1.00</td>\n      <td>-0.67</td>\n      <td>-1.24</td>\n      <td>-1.15</td>\n      <td>-0.28</td>\n      <td>9.39</td>\n      <td>0.39</td>\n      <td>0.12</td>\n      <td>0.05</td>\n      <td>0.12</td>\n      <td>0</td>\n    </tr>\n    <tr>\n      <th>97</th>\n      <td>9.42</td>\n      <td>-7.75</td>\n      <td>4.43</td>\n      <td>2.59</td>\n      <td>0.16</td>\n      <td>-2.19</td>\n      <td>7.10</td>\n      <td>8.49</td>\n      <td>-1.47</td>\n      <td>0.36</td>\n      <td>1.01</td>\n      <td>1.64</td>\n      <td>0.60</td>\n      <td>9.52</td>\n      <td>-0.28</td>\n      <td>-0.07</td>\n      <td>-0.05</td>\n      <td>-0.01</td>\n      <td>0</td>\n    </tr>\n    <tr>\n      <th>98</th>\n      <td>6.94</td>\n      <td>0.43</td>\n      <td>0.97</td>\n      <td>-2.89</td>\n      <td>0.30</td>\n      <td>1.45</td>\n      <td>7.56</td>\n      <td>6.11</td>\n      <td>-1.07</td>\n      <td>-0.82</td>\n      <td>-1.51</td>\n      <td>-1.38</td>\n      <td>0.17</td>\n      <td>9.62</td>\n      <td>0.46</td>\n      <td>0.07</td>\n      <td>0.02</td>\n      <td>0.31</td>\n      <td>0</td>\n    </tr>\n    <tr>\n      <th>99</th>\n      <td>6.93</td>\n      <td>-3.27</td>\n      <td>4.62</td>\n      <td>3.18</td>\n      <td>-0.19</td>\n      <td>-1.36</td>\n      <td>6.52</td>\n      <td>7.51</td>\n      <td>-1.49</td>\n      <td>0.59</td>\n      <td>1.33</td>\n      <td>1.25</td>\n      <td>0.87</td>\n      <td>9.56</td>\n      <td>0.27</td>\n      <td>-0.04</td>\n      <td>-0.01</td>\n      <td>-0.09</td>\n      <td>0</td>\n    </tr>\n  </tbody>\n</table>\n<p>100 rows × 19 columns</p>\n</div>"
     },
     "execution_count": 282,
     "metadata": {},
     "output_type": "execute_result"
    }
   ],
   "source": [
    "data_gerakan_salah = pd.read_csv(\"../data/gerakan-salah.csv\")\n",
    "data_gerakan_salah[\"kelas\"] = 0\n",
    "data_gerakan_salah"
   ],
   "metadata": {
    "collapsed": false,
    "ExecuteTime": {
     "end_time": "2024-03-04T16:46:35.067309Z",
     "start_time": "2024-03-04T16:46:35.054501Z"
    }
   },
   "id": "ccdad8460c81d923",
   "execution_count": 282
  },
  {
   "cell_type": "markdown",
   "source": [
    "### Menggabungkan Data\n",
    "\n",
    "Menggabungkan data gerakan benar dan gerakan salah ke dalam satu DataFrame"
   ],
   "metadata": {
    "collapsed": false
   },
   "id": "bc3f3918a1b1de5a"
  },
  {
   "cell_type": "code",
   "outputs": [
    {
     "data": {
      "text/plain": "       ax1   ay1   az1   gx1   gy1   gz1   ax2   ay2   az2   gx2   gy2   gz2  \\\n0     2.91  6.17  3.59 -1.67 -0.46  0.92  5.53  8.00 -1.73  0.31  0.16 -0.41   \n1     2.58  8.36  2.91  0.18  0.07 -0.21  5.77  7.74 -1.23 -0.14 -0.04 -0.07   \n2     4.09  6.41  4.38 -1.30 -0.25  0.87  5.13  8.39 -1.98  0.41  0.09 -0.29   \n3     3.58  7.54  3.47  0.51  0.13 -0.46  5.27  8.04 -1.34 -0.23 -0.09  0.00   \n4     4.02  6.64  4.09 -1.16 -0.05  0.92  5.04  8.26 -1.68  0.27  0.12 -0.38   \n..     ...   ...   ...   ...   ...   ...   ...   ...   ...   ...   ...   ...   \n168  10.55 -9.14  4.45  0.50  0.29 -0.54  4.86  8.96 -1.65  0.14  0.57  0.36   \n169   7.16  2.13 -1.98 -1.96  0.18  0.76  8.26  4.04  1.00 -0.67 -1.24 -1.15   \n170   9.42 -7.75  4.43  2.59  0.16 -2.19  7.10  8.49 -1.47  0.36  1.01  1.64   \n171   6.94  0.43  0.97 -2.89  0.30  1.45  7.56  6.11 -1.07 -0.82 -1.51 -1.38   \n172   6.93 -3.27  4.62  3.18 -0.19 -1.36  6.52  7.51 -1.49  0.59  1.33  1.25   \n\n      ax3   ay3   az3   gx3   gy3   gz3  kelas  \n0   -0.22  9.47 -2.62 -0.06  0.02  0.01      1  \n1   -0.28  9.57 -2.27  0.00  0.12  0.03      1  \n2   -0.09  9.46 -2.35 -0.03  0.03  0.02      1  \n3   -0.18  9.62 -1.83  0.04  0.12 -0.02      1  \n4    0.18  9.50 -1.97 -0.02 -0.06  0.03      1  \n..    ...   ...   ...   ...   ...   ...    ...  \n168  1.32  9.75 -0.65 -0.01  0.00  0.01      0  \n169 -0.28  9.39  0.39  0.12  0.05  0.12      0  \n170  0.60  9.52 -0.28 -0.07 -0.05 -0.01      0  \n171  0.17  9.62  0.46  0.07  0.02  0.31      0  \n172  0.87  9.56  0.27 -0.04 -0.01 -0.09      0  \n\n[173 rows x 19 columns]",
      "text/html": "<div>\n<style scoped>\n    .dataframe tbody tr th:only-of-type {\n        vertical-align: middle;\n    }\n\n    .dataframe tbody tr th {\n        vertical-align: top;\n    }\n\n    .dataframe thead th {\n        text-align: right;\n    }\n</style>\n<table border=\"1\" class=\"dataframe\">\n  <thead>\n    <tr style=\"text-align: right;\">\n      <th></th>\n      <th>ax1</th>\n      <th>ay1</th>\n      <th>az1</th>\n      <th>gx1</th>\n      <th>gy1</th>\n      <th>gz1</th>\n      <th>ax2</th>\n      <th>ay2</th>\n      <th>az2</th>\n      <th>gx2</th>\n      <th>gy2</th>\n      <th>gz2</th>\n      <th>ax3</th>\n      <th>ay3</th>\n      <th>az3</th>\n      <th>gx3</th>\n      <th>gy3</th>\n      <th>gz3</th>\n      <th>kelas</th>\n    </tr>\n  </thead>\n  <tbody>\n    <tr>\n      <th>0</th>\n      <td>2.91</td>\n      <td>6.17</td>\n      <td>3.59</td>\n      <td>-1.67</td>\n      <td>-0.46</td>\n      <td>0.92</td>\n      <td>5.53</td>\n      <td>8.00</td>\n      <td>-1.73</td>\n      <td>0.31</td>\n      <td>0.16</td>\n      <td>-0.41</td>\n      <td>-0.22</td>\n      <td>9.47</td>\n      <td>-2.62</td>\n      <td>-0.06</td>\n      <td>0.02</td>\n      <td>0.01</td>\n      <td>1</td>\n    </tr>\n    <tr>\n      <th>1</th>\n      <td>2.58</td>\n      <td>8.36</td>\n      <td>2.91</td>\n      <td>0.18</td>\n      <td>0.07</td>\n      <td>-0.21</td>\n      <td>5.77</td>\n      <td>7.74</td>\n      <td>-1.23</td>\n      <td>-0.14</td>\n      <td>-0.04</td>\n      <td>-0.07</td>\n      <td>-0.28</td>\n      <td>9.57</td>\n      <td>-2.27</td>\n      <td>0.00</td>\n      <td>0.12</td>\n      <td>0.03</td>\n      <td>1</td>\n    </tr>\n    <tr>\n      <th>2</th>\n      <td>4.09</td>\n      <td>6.41</td>\n      <td>4.38</td>\n      <td>-1.30</td>\n      <td>-0.25</td>\n      <td>0.87</td>\n      <td>5.13</td>\n      <td>8.39</td>\n      <td>-1.98</td>\n      <td>0.41</td>\n      <td>0.09</td>\n      <td>-0.29</td>\n      <td>-0.09</td>\n      <td>9.46</td>\n      <td>-2.35</td>\n      <td>-0.03</td>\n      <td>0.03</td>\n      <td>0.02</td>\n      <td>1</td>\n    </tr>\n    <tr>\n      <th>3</th>\n      <td>3.58</td>\n      <td>7.54</td>\n      <td>3.47</td>\n      <td>0.51</td>\n      <td>0.13</td>\n      <td>-0.46</td>\n      <td>5.27</td>\n      <td>8.04</td>\n      <td>-1.34</td>\n      <td>-0.23</td>\n      <td>-0.09</td>\n      <td>0.00</td>\n      <td>-0.18</td>\n      <td>9.62</td>\n      <td>-1.83</td>\n      <td>0.04</td>\n      <td>0.12</td>\n      <td>-0.02</td>\n      <td>1</td>\n    </tr>\n    <tr>\n      <th>4</th>\n      <td>4.02</td>\n      <td>6.64</td>\n      <td>4.09</td>\n      <td>-1.16</td>\n      <td>-0.05</td>\n      <td>0.92</td>\n      <td>5.04</td>\n      <td>8.26</td>\n      <td>-1.68</td>\n      <td>0.27</td>\n      <td>0.12</td>\n      <td>-0.38</td>\n      <td>0.18</td>\n      <td>9.50</td>\n      <td>-1.97</td>\n      <td>-0.02</td>\n      <td>-0.06</td>\n      <td>0.03</td>\n      <td>1</td>\n    </tr>\n    <tr>\n      <th>...</th>\n      <td>...</td>\n      <td>...</td>\n      <td>...</td>\n      <td>...</td>\n      <td>...</td>\n      <td>...</td>\n      <td>...</td>\n      <td>...</td>\n      <td>...</td>\n      <td>...</td>\n      <td>...</td>\n      <td>...</td>\n      <td>...</td>\n      <td>...</td>\n      <td>...</td>\n      <td>...</td>\n      <td>...</td>\n      <td>...</td>\n      <td>...</td>\n    </tr>\n    <tr>\n      <th>168</th>\n      <td>10.55</td>\n      <td>-9.14</td>\n      <td>4.45</td>\n      <td>0.50</td>\n      <td>0.29</td>\n      <td>-0.54</td>\n      <td>4.86</td>\n      <td>8.96</td>\n      <td>-1.65</td>\n      <td>0.14</td>\n      <td>0.57</td>\n      <td>0.36</td>\n      <td>1.32</td>\n      <td>9.75</td>\n      <td>-0.65</td>\n      <td>-0.01</td>\n      <td>0.00</td>\n      <td>0.01</td>\n      <td>0</td>\n    </tr>\n    <tr>\n      <th>169</th>\n      <td>7.16</td>\n      <td>2.13</td>\n      <td>-1.98</td>\n      <td>-1.96</td>\n      <td>0.18</td>\n      <td>0.76</td>\n      <td>8.26</td>\n      <td>4.04</td>\n      <td>1.00</td>\n      <td>-0.67</td>\n      <td>-1.24</td>\n      <td>-1.15</td>\n      <td>-0.28</td>\n      <td>9.39</td>\n      <td>0.39</td>\n      <td>0.12</td>\n      <td>0.05</td>\n      <td>0.12</td>\n      <td>0</td>\n    </tr>\n    <tr>\n      <th>170</th>\n      <td>9.42</td>\n      <td>-7.75</td>\n      <td>4.43</td>\n      <td>2.59</td>\n      <td>0.16</td>\n      <td>-2.19</td>\n      <td>7.10</td>\n      <td>8.49</td>\n      <td>-1.47</td>\n      <td>0.36</td>\n      <td>1.01</td>\n      <td>1.64</td>\n      <td>0.60</td>\n      <td>9.52</td>\n      <td>-0.28</td>\n      <td>-0.07</td>\n      <td>-0.05</td>\n      <td>-0.01</td>\n      <td>0</td>\n    </tr>\n    <tr>\n      <th>171</th>\n      <td>6.94</td>\n      <td>0.43</td>\n      <td>0.97</td>\n      <td>-2.89</td>\n      <td>0.30</td>\n      <td>1.45</td>\n      <td>7.56</td>\n      <td>6.11</td>\n      <td>-1.07</td>\n      <td>-0.82</td>\n      <td>-1.51</td>\n      <td>-1.38</td>\n      <td>0.17</td>\n      <td>9.62</td>\n      <td>0.46</td>\n      <td>0.07</td>\n      <td>0.02</td>\n      <td>0.31</td>\n      <td>0</td>\n    </tr>\n    <tr>\n      <th>172</th>\n      <td>6.93</td>\n      <td>-3.27</td>\n      <td>4.62</td>\n      <td>3.18</td>\n      <td>-0.19</td>\n      <td>-1.36</td>\n      <td>6.52</td>\n      <td>7.51</td>\n      <td>-1.49</td>\n      <td>0.59</td>\n      <td>1.33</td>\n      <td>1.25</td>\n      <td>0.87</td>\n      <td>9.56</td>\n      <td>0.27</td>\n      <td>-0.04</td>\n      <td>-0.01</td>\n      <td>-0.09</td>\n      <td>0</td>\n    </tr>\n  </tbody>\n</table>\n<p>173 rows × 19 columns</p>\n</div>"
     },
     "execution_count": 283,
     "metadata": {},
     "output_type": "execute_result"
    }
   ],
   "source": [
    "data = pd.concat([data_gerakan_benar, data_gerakan_salah], ignore_index=True)\n",
    "data"
   ],
   "metadata": {
    "collapsed": false,
    "ExecuteTime": {
     "end_time": "2024-03-04T16:46:35.082499Z",
     "start_time": "2024-03-04T16:46:35.068137Z"
    }
   },
   "id": "5cb6ee726788e1d8",
   "execution_count": 283
  },
  {
   "cell_type": "markdown",
   "source": [
    "## PCA"
   ],
   "metadata": {
    "collapsed": false
   },
   "id": "b1aa003644e49444"
  },
  {
   "cell_type": "markdown",
   "source": [
    "### Mengambil Fitur\n",
    "\n",
    "Mengambil data X di mana hanya fiturnya saja tanpa kelas dari semua data yang ada"
   ],
   "metadata": {
    "collapsed": false
   },
   "id": "bdb2a8cec2ca77d"
  },
  {
   "cell_type": "code",
   "outputs": [
    {
     "name": "stdout",
     "output_type": "stream",
     "text": [
      "<class 'pandas.core.frame.DataFrame'>\n",
      "RangeIndex: 173 entries, 0 to 172\n",
      "Data columns (total 18 columns):\n",
      " #   Column  Non-Null Count  Dtype  \n",
      "---  ------  --------------  -----  \n",
      " 0   ax1     173 non-null    float64\n",
      " 1   ay1     173 non-null    float64\n",
      " 2   az1     173 non-null    float64\n",
      " 3   gx1     173 non-null    float64\n",
      " 4   gy1     173 non-null    float64\n",
      " 5   gz1     173 non-null    float64\n",
      " 6   ax2     173 non-null    float64\n",
      " 7   ay2     173 non-null    float64\n",
      " 8   az2     173 non-null    float64\n",
      " 9   gx2     173 non-null    float64\n",
      " 10  gy2     173 non-null    float64\n",
      " 11  gz2     173 non-null    float64\n",
      " 12  ax3     173 non-null    float64\n",
      " 13  ay3     173 non-null    float64\n",
      " 14  az3     173 non-null    float64\n",
      " 15  gx3     173 non-null    float64\n",
      " 16  gy3     173 non-null    float64\n",
      " 17  gz3     173 non-null    float64\n",
      "dtypes: float64(18)\n",
      "memory usage: 24.5 KB\n"
     ]
    }
   ],
   "source": [
    "X = data.iloc[:, :-1]\n",
    "y = data.iloc[:, -1]\n",
    "X.info()"
   ],
   "metadata": {
    "collapsed": false,
    "ExecuteTime": {
     "end_time": "2024-03-04T16:46:35.097397Z",
     "start_time": "2024-03-04T16:46:35.084112Z"
    }
   },
   "id": "db9fb4a54eeaaa80",
   "execution_count": 284
  },
  {
   "cell_type": "markdown",
   "source": [
    "### Dimensi Data\n",
    "\n",
    "Mengambil dimensi data:\n",
    "\n",
    "- N = Jumlah Data\n",
    "- K = Dimensi Data\n"
   ],
   "metadata": {
    "collapsed": false
   },
   "id": "c20863f60857bb3d"
  },
  {
   "cell_type": "code",
   "outputs": [
    {
     "data": {
      "text/plain": "(173, 18)"
     },
     "execution_count": 285,
     "metadata": {},
     "output_type": "execute_result"
    }
   ],
   "source": [
    "N, K = X.shape\n",
    "N, K"
   ],
   "metadata": {
    "collapsed": false,
    "ExecuteTime": {
     "end_time": "2024-03-04T16:46:35.102912Z",
     "start_time": "2024-03-04T16:46:35.098962Z"
    }
   },
   "id": "c7eb7af041841daf",
   "execution_count": 285
  },
  {
   "cell_type": "markdown",
   "source": [
    "### Mean Global\n",
    "\n",
    "Menghitung mean global dari setiap fitur dengan persamaan:\n",
    "\n",
    "![Mean Global](../image/mean_global.png)"
   ],
   "metadata": {
    "collapsed": false
   },
   "id": "33c05f2a06470347"
  },
  {
   "cell_type": "code",
   "outputs": [
    {
     "data": {
      "text/plain": "ax1    4.280809\nay1    1.909711\naz1    2.353873\ngx1   -0.193353\ngy1   -0.051792\ngz1    0.016590\nax2    4.784104\nay2    6.398555\naz2   -0.243584\ngx2   -0.020867\ngy2   -0.004220\ngz2   -0.056069\nax3    0.173757\nay3    9.345954\naz3   -0.863988\ngx3   -0.011098\ngy3    0.056532\ngz3    0.003410\ndtype: float64"
     },
     "execution_count": 286,
     "metadata": {},
     "output_type": "execute_result"
    }
   ],
   "source": [
    "mean_global = X.mean()\n",
    "mean_global"
   ],
   "metadata": {
    "collapsed": false,
    "ExecuteTime": {
     "end_time": "2024-03-04T16:46:35.108234Z",
     "start_time": "2024-03-04T16:46:35.103747Z"
    }
   },
   "id": "61a3c0dfaf9f06f1",
   "execution_count": 286
  },
  {
   "cell_type": "markdown",
   "source": [
    "### Menghitung Zero Mean\n",
    "\n",
    "Menghitung zero mean dari setiap fitur dengan persamaan:\n",
    "\n",
    "![Zero Mean](../image/zero_mean.png)"
   ],
   "metadata": {
    "collapsed": false
   },
   "id": "c915a107491beab5"
  },
  {
   "cell_type": "code",
   "outputs": [
    {
     "data": {
      "text/plain": "Empty DataFrame\nColumns: []\nIndex: []",
      "text/html": "<div>\n<style scoped>\n    .dataframe tbody tr th:only-of-type {\n        vertical-align: middle;\n    }\n\n    .dataframe tbody tr th {\n        vertical-align: top;\n    }\n\n    .dataframe thead th {\n        text-align: right;\n    }\n</style>\n<table border=\"1\" class=\"dataframe\">\n  <thead>\n    <tr style=\"text-align: right;\">\n      <th></th>\n    </tr>\n  </thead>\n  <tbody>\n  </tbody>\n</table>\n</div>"
     },
     "execution_count": 287,
     "metadata": {},
     "output_type": "execute_result"
    }
   ],
   "source": [
    "X_zero_mean = pd.DataFrame()\n",
    "X_zero_mean"
   ],
   "metadata": {
    "collapsed": false,
    "ExecuteTime": {
     "end_time": "2024-03-04T16:46:35.112782Z",
     "start_time": "2024-03-04T16:46:35.109020Z"
    }
   },
   "id": "5f9acf09fad7bdbf",
   "execution_count": 287
  },
  {
   "cell_type": "code",
   "outputs": [
    {
     "data": {
      "text/plain": "          ax1        ay1       az1       gx1       gy1      gz1       ax2  \\\n0   -1.370809   4.260289  1.236127 -1.476647 -0.408208  0.90341  0.745896   \n1   -1.700809   6.450289  0.556127  0.373353  0.121792 -0.22659  0.985896   \n2   -0.190809   4.500289  2.026127 -1.106647 -0.198208  0.85341  0.345896   \n3   -0.700809   5.630289  1.116127  0.703353  0.181792 -0.47659  0.485896   \n4   -0.260809   4.730289  1.736127 -0.966647  0.001792  0.90341  0.255896   \n..        ...        ...       ...       ...       ...      ...       ...   \n168  6.269191 -11.049711  2.096127  0.693353  0.341792 -0.55659  0.075896   \n169  2.879191   0.220289 -4.333873 -1.766647  0.231792  0.74341  3.475896   \n170  5.139191  -9.659711  2.076127  2.783353  0.211792 -2.20659  2.315896   \n171  2.659191  -1.479711 -1.383873 -2.696647  0.351792  1.43341  2.775896   \n172  2.649191  -5.179711  2.266127  3.373353 -0.138208 -1.37659  1.735896   \n\n          ay2       az2       gx2      gy2       gz2       ax3       ay3  \\\n0    1.601445 -1.486416  0.330867  0.16422 -0.353931 -0.393757  0.124046   \n1    1.341445 -0.986416 -0.119133 -0.03578 -0.013931 -0.453757  0.224046   \n2    1.991445 -1.736416  0.430867  0.09422 -0.233931 -0.263757  0.114046   \n3    1.641445 -1.096416 -0.209133 -0.08578  0.056069 -0.353757  0.274046   \n4    1.861445 -1.436416  0.290867  0.12422 -0.323931  0.006243  0.154046   \n..        ...       ...       ...      ...       ...       ...       ...   \n168  2.561445 -1.406416  0.160867  0.57422  0.416069  1.146243  0.404046   \n169 -2.358555  1.243584 -0.649133 -1.23578 -1.093931 -0.453757  0.044046   \n170  2.091445 -1.226416  0.380867  1.01422  1.696069  0.426243  0.174046   \n171 -0.288555 -0.826416 -0.799133 -1.50578 -1.323931 -0.003757  0.274046   \n172  1.111445 -1.246416  0.610867  1.33422  1.306069  0.696243  0.214046   \n\n          az3       gx3       gy3      gz3  \n0   -1.756012 -0.048902 -0.036532  0.00659  \n1   -1.406012  0.011098  0.063468  0.02659  \n2   -1.486012 -0.018902 -0.026532  0.01659  \n3   -0.966012  0.051098  0.063468 -0.02341  \n4   -1.106012 -0.008902 -0.116532  0.02659  \n..        ...       ...       ...      ...  \n168  0.213988  0.001098 -0.056532  0.00659  \n169  1.253988  0.131098 -0.006532  0.11659  \n170  0.583988 -0.058902 -0.106532 -0.01341  \n171  1.323988  0.081098 -0.036532  0.30659  \n172  1.133988 -0.028902 -0.066532 -0.09341  \n\n[173 rows x 18 columns]",
      "text/html": "<div>\n<style scoped>\n    .dataframe tbody tr th:only-of-type {\n        vertical-align: middle;\n    }\n\n    .dataframe tbody tr th {\n        vertical-align: top;\n    }\n\n    .dataframe thead th {\n        text-align: right;\n    }\n</style>\n<table border=\"1\" class=\"dataframe\">\n  <thead>\n    <tr style=\"text-align: right;\">\n      <th></th>\n      <th>ax1</th>\n      <th>ay1</th>\n      <th>az1</th>\n      <th>gx1</th>\n      <th>gy1</th>\n      <th>gz1</th>\n      <th>ax2</th>\n      <th>ay2</th>\n      <th>az2</th>\n      <th>gx2</th>\n      <th>gy2</th>\n      <th>gz2</th>\n      <th>ax3</th>\n      <th>ay3</th>\n      <th>az3</th>\n      <th>gx3</th>\n      <th>gy3</th>\n      <th>gz3</th>\n    </tr>\n  </thead>\n  <tbody>\n    <tr>\n      <th>0</th>\n      <td>-1.370809</td>\n      <td>4.260289</td>\n      <td>1.236127</td>\n      <td>-1.476647</td>\n      <td>-0.408208</td>\n      <td>0.90341</td>\n      <td>0.745896</td>\n      <td>1.601445</td>\n      <td>-1.486416</td>\n      <td>0.330867</td>\n      <td>0.16422</td>\n      <td>-0.353931</td>\n      <td>-0.393757</td>\n      <td>0.124046</td>\n      <td>-1.756012</td>\n      <td>-0.048902</td>\n      <td>-0.036532</td>\n      <td>0.00659</td>\n    </tr>\n    <tr>\n      <th>1</th>\n      <td>-1.700809</td>\n      <td>6.450289</td>\n      <td>0.556127</td>\n      <td>0.373353</td>\n      <td>0.121792</td>\n      <td>-0.22659</td>\n      <td>0.985896</td>\n      <td>1.341445</td>\n      <td>-0.986416</td>\n      <td>-0.119133</td>\n      <td>-0.03578</td>\n      <td>-0.013931</td>\n      <td>-0.453757</td>\n      <td>0.224046</td>\n      <td>-1.406012</td>\n      <td>0.011098</td>\n      <td>0.063468</td>\n      <td>0.02659</td>\n    </tr>\n    <tr>\n      <th>2</th>\n      <td>-0.190809</td>\n      <td>4.500289</td>\n      <td>2.026127</td>\n      <td>-1.106647</td>\n      <td>-0.198208</td>\n      <td>0.85341</td>\n      <td>0.345896</td>\n      <td>1.991445</td>\n      <td>-1.736416</td>\n      <td>0.430867</td>\n      <td>0.09422</td>\n      <td>-0.233931</td>\n      <td>-0.263757</td>\n      <td>0.114046</td>\n      <td>-1.486012</td>\n      <td>-0.018902</td>\n      <td>-0.026532</td>\n      <td>0.01659</td>\n    </tr>\n    <tr>\n      <th>3</th>\n      <td>-0.700809</td>\n      <td>5.630289</td>\n      <td>1.116127</td>\n      <td>0.703353</td>\n      <td>0.181792</td>\n      <td>-0.47659</td>\n      <td>0.485896</td>\n      <td>1.641445</td>\n      <td>-1.096416</td>\n      <td>-0.209133</td>\n      <td>-0.08578</td>\n      <td>0.056069</td>\n      <td>-0.353757</td>\n      <td>0.274046</td>\n      <td>-0.966012</td>\n      <td>0.051098</td>\n      <td>0.063468</td>\n      <td>-0.02341</td>\n    </tr>\n    <tr>\n      <th>4</th>\n      <td>-0.260809</td>\n      <td>4.730289</td>\n      <td>1.736127</td>\n      <td>-0.966647</td>\n      <td>0.001792</td>\n      <td>0.90341</td>\n      <td>0.255896</td>\n      <td>1.861445</td>\n      <td>-1.436416</td>\n      <td>0.290867</td>\n      <td>0.12422</td>\n      <td>-0.323931</td>\n      <td>0.006243</td>\n      <td>0.154046</td>\n      <td>-1.106012</td>\n      <td>-0.008902</td>\n      <td>-0.116532</td>\n      <td>0.02659</td>\n    </tr>\n    <tr>\n      <th>...</th>\n      <td>...</td>\n      <td>...</td>\n      <td>...</td>\n      <td>...</td>\n      <td>...</td>\n      <td>...</td>\n      <td>...</td>\n      <td>...</td>\n      <td>...</td>\n      <td>...</td>\n      <td>...</td>\n      <td>...</td>\n      <td>...</td>\n      <td>...</td>\n      <td>...</td>\n      <td>...</td>\n      <td>...</td>\n      <td>...</td>\n    </tr>\n    <tr>\n      <th>168</th>\n      <td>6.269191</td>\n      <td>-11.049711</td>\n      <td>2.096127</td>\n      <td>0.693353</td>\n      <td>0.341792</td>\n      <td>-0.55659</td>\n      <td>0.075896</td>\n      <td>2.561445</td>\n      <td>-1.406416</td>\n      <td>0.160867</td>\n      <td>0.57422</td>\n      <td>0.416069</td>\n      <td>1.146243</td>\n      <td>0.404046</td>\n      <td>0.213988</td>\n      <td>0.001098</td>\n      <td>-0.056532</td>\n      <td>0.00659</td>\n    </tr>\n    <tr>\n      <th>169</th>\n      <td>2.879191</td>\n      <td>0.220289</td>\n      <td>-4.333873</td>\n      <td>-1.766647</td>\n      <td>0.231792</td>\n      <td>0.74341</td>\n      <td>3.475896</td>\n      <td>-2.358555</td>\n      <td>1.243584</td>\n      <td>-0.649133</td>\n      <td>-1.23578</td>\n      <td>-1.093931</td>\n      <td>-0.453757</td>\n      <td>0.044046</td>\n      <td>1.253988</td>\n      <td>0.131098</td>\n      <td>-0.006532</td>\n      <td>0.11659</td>\n    </tr>\n    <tr>\n      <th>170</th>\n      <td>5.139191</td>\n      <td>-9.659711</td>\n      <td>2.076127</td>\n      <td>2.783353</td>\n      <td>0.211792</td>\n      <td>-2.20659</td>\n      <td>2.315896</td>\n      <td>2.091445</td>\n      <td>-1.226416</td>\n      <td>0.380867</td>\n      <td>1.01422</td>\n      <td>1.696069</td>\n      <td>0.426243</td>\n      <td>0.174046</td>\n      <td>0.583988</td>\n      <td>-0.058902</td>\n      <td>-0.106532</td>\n      <td>-0.01341</td>\n    </tr>\n    <tr>\n      <th>171</th>\n      <td>2.659191</td>\n      <td>-1.479711</td>\n      <td>-1.383873</td>\n      <td>-2.696647</td>\n      <td>0.351792</td>\n      <td>1.43341</td>\n      <td>2.775896</td>\n      <td>-0.288555</td>\n      <td>-0.826416</td>\n      <td>-0.799133</td>\n      <td>-1.50578</td>\n      <td>-1.323931</td>\n      <td>-0.003757</td>\n      <td>0.274046</td>\n      <td>1.323988</td>\n      <td>0.081098</td>\n      <td>-0.036532</td>\n      <td>0.30659</td>\n    </tr>\n    <tr>\n      <th>172</th>\n      <td>2.649191</td>\n      <td>-5.179711</td>\n      <td>2.266127</td>\n      <td>3.373353</td>\n      <td>-0.138208</td>\n      <td>-1.37659</td>\n      <td>1.735896</td>\n      <td>1.111445</td>\n      <td>-1.246416</td>\n      <td>0.610867</td>\n      <td>1.33422</td>\n      <td>1.306069</td>\n      <td>0.696243</td>\n      <td>0.214046</td>\n      <td>1.133988</td>\n      <td>-0.028902</td>\n      <td>-0.066532</td>\n      <td>-0.09341</td>\n    </tr>\n  </tbody>\n</table>\n<p>173 rows × 18 columns</p>\n</div>"
     },
     "execution_count": 288,
     "metadata": {},
     "output_type": "execute_result"
    }
   ],
   "source": [
    "for column in X.columns:\n",
    "    X_zero_mean[column] = X[column] - mean_global[column]\n",
    "\n",
    "X_zero_mean"
   ],
   "metadata": {
    "collapsed": false,
    "ExecuteTime": {
     "end_time": "2024-03-04T16:46:35.124414Z",
     "start_time": "2024-03-04T16:46:35.113497Z"
    }
   },
   "id": "9799fe036eb7bade",
   "execution_count": 288
  },
  {
   "cell_type": "markdown",
   "source": [
    "### Menghitung Kovarian\n",
    "\n",
    "Menghitung kovarian dari data dengan persamaan:\n",
    "\n",
    "![]()"
   ],
   "metadata": {
    "collapsed": false
   },
   "id": "4159bef581a6137f"
  },
  {
   "cell_type": "code",
   "outputs": [
    {
     "data": {
      "text/plain": "array([[ 7.14500516e+00, -6.12422651e+00,  3.70850266e+00,\n         2.44424822e-01,  1.77921807e-01, -1.80719899e-01,\n        -5.73014968e-01,  5.41421687e+00, -3.86357548e-01,\n         7.31100081e-02,  8.90261090e-02,  7.89450565e-02,\n         2.64914965e-01,  1.39101549e-01,  2.43479511e+00,\n        -5.15525944e-02, -3.52465956e-02, -4.49870614e-03],\n       [-6.12422651e+00,  3.92919435e+01, -5.24743957e+00,\n        -1.08100446e+00, -2.44279009e-01,  9.62296683e-01,\n         1.53031657e+01, -5.88836612e+00, -2.06297895e+00,\n        -3.59078102e-02, -3.99979134e-01, -7.97131416e-01,\n        -2.95149368e+00,  1.69717382e+00,  3.30439186e+00,\n         1.38534564e-01, -4.05789152e-02,  2.91800612e-02],\n       [ 3.70850266e+00, -5.24743957e+00,  1.08925681e+01,\n         5.57787572e-02,  9.81325615e-02, -1.59618692e-01,\n        -4.73470436e+00,  7.76264865e+00, -2.10851737e-01,\n         2.02674889e-01,  1.83237367e-01,  1.09396317e-01,\n         6.19555132e-01, -4.19644710e-02, -4.87890278e-01,\n        -6.48521172e-02, -1.67423041e-02,  1.64020366e-03],\n       [ 2.44424822e-01, -1.08100446e+00,  5.57787572e-02,\n         2.88027358e+00, -1.97932205e-01, -1.37108883e+00,\n         1.12132444e-01, -1.99914757e-01, -1.44912085e-01,\n        -2.96143621e-01,  2.62000306e-01,  8.45649301e-01,\n         1.05542902e-01, -2.29654923e-01, -2.92704728e-01,\n        -2.78258936e-01,  4.09342351e-02, -1.79306523e-01],\n       [ 1.77921807e-01, -2.44279009e-01,  9.81325615e-02,\n        -1.97932205e-01,  1.06758980e-01,  7.74310626e-02,\n        -5.46606264e-02,  1.22590419e-01,  6.82668033e-03,\n         2.74344838e-02, -2.25959773e-02, -6.96940785e-02,\n         3.87421360e-03, -7.63636241e-03,  3.05306022e-02,\n         4.09445322e-02,  6.20188869e-03,  2.32718443e-02],\n       [-1.80719899e-01,  9.62296683e-01, -1.59618692e-01,\n        -1.37108883e+00,  7.74310626e-02,  7.91409813e-01,\n         8.87216360e-02, -1.37736352e-01,  1.54255730e-01,\n         1.44573189e-01, -1.14094707e-01, -4.34576052e-01,\n        -1.07576065e-01,  1.31268097e-01,  1.86579342e-01,\n         1.35680535e-01, -2.48723619e-02,  9.22803031e-02],\n       [-5.73014968e-01,  1.53031657e+01, -4.73470436e+00,\n         1.12132444e-01, -5.46606264e-02,  8.87216360e-02,\n         1.20241895e+01, -6.47072717e+00, -1.12087474e+00,\n        -4.94999093e-02, -1.23634326e-01, -7.99714579e-02,\n        -2.00511609e+00,  1.16069345e+00,  4.58300716e+00,\n        -3.33873269e-02, -3.67414975e-02, -4.31605895e-02],\n       [ 5.41421687e+00, -5.88836612e+00,  7.76264865e+00,\n        -1.99914757e-01,  1.22590419e-01, -1.37736352e-01,\n        -6.47072717e+00,  1.58415543e+01, -2.80939998e+00,\n         8.98062979e-02,  2.21363086e-02, -4.34983566e-02,\n         2.16776593e+00, -1.10252974e-01, -2.61331379e-01,\n        -8.90975265e-02,  1.35972846e-02, -3.13864767e-03],\n       [-3.86357548e-01, -2.06297895e+00, -2.10851737e-01,\n        -1.44912085e-01,  6.82668033e-03,  1.54255730e-01,\n        -1.12087474e+00, -2.80939998e+00,  4.43684755e+00,\n         4.93666420e-02,  6.08827799e-03, -2.66602500e-02,\n        -1.04042715e+00, -1.16187260e-01, -5.68847258e-02,\n        -9.20279607e-03,  4.46177309e-02,  1.67275844e-03],\n       [ 7.31100081e-02, -3.59078102e-02,  2.02674889e-01,\n        -2.96143621e-01,  2.74344838e-02,  1.44573189e-01,\n        -4.94999093e-02,  8.98062979e-02,  4.93666420e-02,\n         9.58207555e-02,  2.12550410e-02, -7.99832000e-02,\n        -3.34693978e-02,  3.61406573e-02,  7.86110566e-02,\n         3.82106701e-02, -3.87569902e-03,  2.71727416e-02],\n       [ 8.90261090e-02, -3.99979134e-01,  1.83237367e-01,\n         2.62000306e-01, -2.25959773e-02, -1.14094707e-01,\n        -1.23634326e-01,  2.21363086e-02,  6.08827799e-03,\n         2.12550410e-02,  1.28711742e-01,  8.26649382e-02,\n         2.62188533e-02,  5.56189676e-03,  7.27783976e-03,\n        -9.33149617e-04,  4.59117489e-04, -1.14122698e-02],\n       [ 7.89450565e-02, -7.97131416e-01,  1.09396317e-01,\n         8.45649301e-01, -6.96940785e-02, -4.34576052e-01,\n        -7.99714579e-02, -4.34983566e-02, -2.66602500e-02,\n        -7.99832000e-02,  8.26649382e-02,  3.49598414e-01,\n         8.73432854e-02, -1.01520050e-01, -2.03580162e-01,\n        -1.47017170e-01,  1.76137115e-02, -7.84826690e-02],\n       [ 2.64914965e-01, -2.95149368e+00,  6.19555132e-01,\n         1.05542902e-01,  3.87421360e-03, -1.07576065e-01,\n        -2.00511609e+00,  2.16776593e+00, -1.04042715e+00,\n        -3.34693978e-02,  2.62188533e-02,  8.73432854e-02,\n         1.24415615e+00, -2.13886453e-01, -1.03765935e+00,\n        -1.12830589e-02, -9.22933526e-03, -3.20998118e-03],\n       [ 1.39101549e-01,  1.69717382e+00, -4.19644710e-02,\n        -2.29654923e-01, -7.63636241e-03,  1.31268097e-01,\n         1.16069345e+00, -1.10252974e-01, -1.16187260e-01,\n         3.61406573e-02,  5.56189676e-03, -1.01520050e-01,\n        -2.13886453e-01,  1.57760563e+00,  1.31909714e+00,\n         4.83478559e-02, -9.48245799e-02,  1.64255075e-02],\n       [ 2.43479511e+00,  3.30439186e+00, -4.87890278e-01,\n        -2.92704728e-01,  3.05306022e-02,  1.86579342e-01,\n         4.58300716e+00, -2.61331379e-01, -5.68847258e-02,\n         7.86110566e-02,  7.27783976e-03, -2.03580162e-01,\n        -1.03765935e+00,  1.31909714e+00,  5.23604621e+00,\n         7.61291840e-04, -9.23278666e-02, -2.68864431e-03],\n       [-5.15525944e-02,  1.38534564e-01, -6.48521172e-02,\n        -2.78258936e-01,  4.09445322e-02,  1.35680535e-01,\n        -3.33873269e-02, -8.90975265e-02, -9.20279607e-03,\n         3.82106701e-02, -9.33149617e-04, -1.47017170e-01,\n        -1.12830589e-02,  4.83478559e-02,  7.61291840e-04,\n         1.31287740e-01, -1.09218544e-02,  4.92299301e-02],\n       [-3.52465956e-02, -4.05789152e-02, -1.67423041e-02,\n         4.09342351e-02,  6.20188869e-03, -2.48723619e-02,\n        -3.67414975e-02,  1.35972846e-02,  4.46177309e-02,\n        -3.87569902e-03,  4.59117489e-04,  1.76137115e-02,\n        -9.22933526e-03, -9.48245799e-02, -9.23278666e-02,\n        -1.09218544e-02,  2.53913900e-02, -6.45554510e-03],\n       [-4.49870614e-03,  2.91800612e-02,  1.64020366e-03,\n        -1.79306523e-01,  2.32718443e-02,  9.22803031e-02,\n        -4.31605895e-02, -3.13864767e-03,  1.67275844e-03,\n         2.71727416e-02, -1.14122698e-02, -7.84826690e-02,\n        -3.20998118e-03,  1.64255075e-02, -2.68864431e-03,\n         4.92299301e-02, -6.45554510e-03,  2.92644643e-02]])"
     },
     "execution_count": 289,
     "metadata": {},
     "output_type": "execute_result"
    }
   ],
   "source": [
    "cov = 1 / (N - 1) * np.dot(X_zero_mean.T, X_zero_mean)\n",
    "cov"
   ],
   "metadata": {
    "collapsed": false,
    "ExecuteTime": {
     "end_time": "2024-03-04T16:46:35.130215Z",
     "start_time": "2024-03-04T16:46:35.125002Z"
    }
   },
   "id": "733fc64c3686e395",
   "execution_count": 289
  },
  {
   "cell_type": "markdown",
   "source": [
    "### Menghitung Eigenvalue dan Eigenvector"
   ],
   "metadata": {
    "collapsed": false
   },
   "id": "b9cc447a274c7022"
  },
  {
   "cell_type": "code",
   "outputs": [
    {
     "data": {
      "text/plain": "(array([4.88612144e-03, 1.53713068e-02, 2.23765349e-02, 3.06141105e-02,\n        7.08609045e-02, 1.02017915e-01, 1.33003867e-01, 1.67283485e-01,\n        4.32275196e-01, 7.91508828e-01, 1.06681891e+00, 2.13779154e+00,\n        3.09913343e+00, 4.30963082e+00, 6.33191129e+00, 1.07854749e+01,\n        2.04445443e+01, 5.22829294e+01]),\n array([[ 6.54133093e-04, -1.40617437e-02, -6.30730992e-03,\n         -1.14737597e-03, -2.09606266e-02,  3.39880172e-02,\n          3.27234749e-04, -4.64516059e-02, -2.68562173e-02,\n         -1.71500026e-01,  4.41579370e-01, -5.78098070e-01,\n          1.77622000e-01,  2.06406292e-02,  1.35699926e-02,\n          5.58688056e-01,  2.56787533e-01, -1.62644332e-01],\n        [ 2.97635901e-03, -5.08822116e-03,  7.49214194e-03,\n         -1.75512976e-04,  8.37546970e-03,  3.92060385e-02,\n          7.37503142e-03, -2.07963329e-02, -6.69516351e-02,\n         -1.72866597e-01,  1.47029151e-01, -8.27809667e-02,\n          1.56324007e-01,  3.28408502e-02,  8.30805306e-02,\n         -2.62792739e-01,  4.04849784e-01,  8.18289584e-01],\n        [ 5.66796433e-04, -4.92960212e-03, -2.82748137e-03,\n          6.11937913e-03, -5.32468170e-03, -2.57927615e-02,\n          2.52284227e-02,  2.21622729e-03, -5.89274589e-02,\n          1.82711311e-02, -6.93109163e-02,  5.53922478e-02,\n         -3.62212748e-01, -2.85831959e-01,  7.14309853e-01,\n         -5.13105284e-02,  4.61889033e-01, -2.18644803e-01],\n        [-4.15811469e-02, -5.15966541e-03, -4.39290106e-02,\n         -1.44022203e-01,  1.80053902e-01, -3.98732332e-01,\n         -9.92116498e-02,  1.85106075e-01, -1.42008123e-03,\n         -1.09676487e-01,  7.77150447e-02,  1.91655049e-01,\n          4.46327965e-01, -6.93337122e-01, -4.79089082e-02,\n          4.21211584e-02, -3.02664268e-02, -1.85844041e-02],\n        [-4.40138061e-02,  1.41630184e-01, -4.74631593e-03,\n          1.37778373e-01,  8.44094207e-01,  2.39518359e-01,\n          3.15634773e-01,  2.86908645e-01,  2.77399071e-02,\n          2.30583963e-02, -2.06841426e-03, -4.72931116e-02,\n         -3.59720381e-02,  4.63556570e-02,  4.42906402e-03,\n          1.16515663e-02,  4.41012934e-03, -5.70476916e-03],\n        [-2.69754916e-02, -5.08248445e-02,  1.63276787e-01,\n          1.29336860e-02,  3.63787084e-01, -6.70002706e-01,\n         -4.50932701e-01, -9.05331967e-02, -4.75912558e-02,\n         -5.22668306e-03,  8.00981213e-03, -1.05941302e-01,\n         -1.98681573e-01,  3.48910906e-01,  3.63349744e-02,\n         -2.20462567e-02,  1.07389376e-02,  1.91467218e-02],\n        [-3.62388228e-03,  2.10845392e-02, -1.57468682e-02,\n          6.00127578e-03, -2.71346134e-02, -6.38264774e-02,\n         -2.40603743e-02,  7.38364625e-02, -8.21084782e-03,\n          5.92339012e-01, -3.26888024e-01, -1.23263730e-01,\n         -1.98354343e-01, -2.14258969e-01, -5.89848659e-02,\n          5.15985363e-01, -1.16705890e-02,  4.00408773e-01],\n        [-6.51175172e-04,  1.72983514e-02,  1.13699581e-02,\n          5.47933846e-03, -3.52465706e-03, -2.78830346e-02,\n         -2.80652083e-02,  4.00059161e-02,  1.00544978e-01,\n          2.75343456e-01, -2.46843733e-01,  1.14626698e-01,\n          2.84147558e-01,  1.67854146e-01, -3.71157285e-01,\n         -8.64809769e-02,  7.10690694e-01, -2.77733336e-01],\n        [-2.46955079e-04,  1.52296291e-02,  2.97831819e-04,\n          5.24082192e-04, -1.64123905e-02, -2.18908945e-03,\n          7.60871959e-03,  4.64854600e-02, -2.14144284e-01,\n          3.11452769e-01, -1.16908852e-01, -2.49057922e-02,\n          6.40764220e-01,  3.24211479e-01,  5.35887821e-01,\n          7.82163516e-03, -1.91312979e-01, -2.44263499e-02],\n        [-1.92953691e-01, -5.48252482e-02, -5.87875678e-02,\n         -7.90356953e-01,  1.14715174e-01,  3.46040067e-01,\n         -4.01500363e-01,  1.67292679e-01,  2.22888165e-02,\n          9.35864522e-03, -1.30773308e-02, -1.40050717e-02,\n         -5.62323573e-02,  6.77457167e-02,  2.74810228e-02,\n          3.93420931e-03,  8.48603098e-03, -2.12168971e-03],\n        [ 9.50168455e-02,  1.18866988e-01, -2.14741917e-01,\n          5.16136460e-01, -2.79370933e-02,  3.02459848e-01,\n         -6.82337647e-01,  3.10525710e-01, -2.62179723e-02,\n         -4.32696230e-02,  2.69138816e-02,  4.16659811e-02,\n          2.26418910e-02, -6.48365986e-02,  1.26986781e-02,\n          9.03646056e-03, -2.30389228e-03, -8.57111945e-03],\n        [ 1.21417114e-01, -1.03591095e-01,  7.07198147e-01,\n          7.61337231e-02,  1.79420328e-01,  3.24081326e-01,\n         -2.15228467e-01, -4.61122302e-01, -3.65589107e-02,\n          7.20384812e-02, -1.34295275e-02,  4.89861217e-02,\n          1.13040676e-01, -2.23124142e-01, -1.15845242e-02,\n          1.16864967e-02, -1.63785944e-02, -1.46995312e-02],\n        [-2.18847884e-03, -2.53379278e-02, -2.98064741e-02,\n         -3.05199976e-02,  1.69362986e-03,  1.93703588e-02,\n          4.18658593e-02,  4.33763635e-02, -9.40333858e-01,\n          1.06112767e-01,  1.18507500e-01,  2.55251490e-03,\n         -1.21552815e-01, -6.63624887e-02, -2.16718559e-01,\n         -9.83848891e-02,  4.18136257e-02, -8.00548080e-02],\n        [ 6.69900018e-03, -4.55487944e-02, -3.10948447e-02,\n          2.31615078e-04,  1.68024234e-02, -2.65961411e-03,\n          9.05403164e-03, -2.07554129e-02,  1.21234262e-01,\n          4.08109198e-01,  7.16975940e-01,  5.16453502e-01,\n         -7.39640641e-02,  1.13263238e-01,  2.98644117e-02,\n          1.07879038e-01,  4.07262492e-02,  3.99262565e-02],\n        [ 8.91630297e-03, -2.08521882e-02,  3.05427410e-02,\n         -3.84789769e-03,  2.35671509e-02,  2.46977866e-02,\n          3.16154590e-02, -2.30525466e-02, -1.71774866e-01,\n         -4.66189037e-01, -2.34272193e-01,  5.51396228e-01,\n          2.96807357e-02,  2.23564442e-01,  4.11573696e-02,\n          5.64188808e-01,  1.00920647e-01,  9.50350761e-02],\n        [-2.01308789e-01, -2.23186409e-01,  5.93947494e-01,\n          7.04512503e-02, -2.39165501e-01, -5.54114925e-02,\n          9.02875168e-02,  6.85359704e-01,  2.38062142e-02,\n         -3.86072932e-02,  5.51770022e-02, -2.18143791e-02,\n         -5.52783662e-02,  7.12192470e-02,  3.20615786e-03,\n         -7.56839972e-03, -1.66599431e-03,  3.06955946e-03],\n        [ 1.77916549e-01, -9.37648104e-01, -2.38327205e-01,\n          7.78914554e-02,  1.29550256e-01,  5.97135275e-02,\n          1.24263890e-02,  3.03202925e-04,  2.46491331e-02,\n          1.23931288e-02, -5.98306462e-02, -2.87073916e-02,\n          2.10238772e-02, -1.06170017e-02, -4.13944199e-04,\n         -8.05925938e-03, -2.30225407e-03, -1.08642231e-03],\n        [ 9.28586428e-01,  1.26860187e-01,  9.40543620e-02,\n         -2.26203996e-01, -1.52604240e-02, -5.14142002e-02,\n          2.87228728e-02,  2.31961202e-01,  1.12109764e-02,\n         -1.27279278e-02,  1.84611257e-02, -1.83275376e-02,\n         -3.31321252e-02,  4.49482689e-02,  3.63903191e-03,\n         -3.92615358e-03,  8.63478079e-04,  2.82763012e-04]]))"
     },
     "execution_count": 290,
     "metadata": {},
     "output_type": "execute_result"
    }
   ],
   "source": [
    "from numpy import linalg as LA\n",
    "\n",
    "eigvalues, eigvectors = LA.eigh(cov)\n",
    "eigvalues, eigvectors"
   ],
   "metadata": {
    "collapsed": false,
    "ExecuteTime": {
     "end_time": "2024-03-04T16:46:35.139565Z",
     "start_time": "2024-03-04T16:46:35.131777Z"
    }
   },
   "id": "e371a82b30d3ee61",
   "execution_count": 290
  },
  {
   "cell_type": "code",
   "outputs": [
    {
     "data": {
      "text/plain": "             0\nax1   0.004886\nay1   0.015371\naz1   0.022377\ngx1   0.030614\ngy1   0.070861\ngz1   0.102018\nax2   0.133004\nay2   0.167283\naz2   0.432275\ngx2   0.791509\ngy2   1.066819\ngz2   2.137792\nax3   3.099133\nay3   4.309631\naz3   6.331911\ngx3  10.785475\ngy3  20.444544\ngz3  52.282929",
      "text/html": "<div>\n<style scoped>\n    .dataframe tbody tr th:only-of-type {\n        vertical-align: middle;\n    }\n\n    .dataframe tbody tr th {\n        vertical-align: top;\n    }\n\n    .dataframe thead th {\n        text-align: right;\n    }\n</style>\n<table border=\"1\" class=\"dataframe\">\n  <thead>\n    <tr style=\"text-align: right;\">\n      <th></th>\n      <th>0</th>\n    </tr>\n  </thead>\n  <tbody>\n    <tr>\n      <th>ax1</th>\n      <td>0.004886</td>\n    </tr>\n    <tr>\n      <th>ay1</th>\n      <td>0.015371</td>\n    </tr>\n    <tr>\n      <th>az1</th>\n      <td>0.022377</td>\n    </tr>\n    <tr>\n      <th>gx1</th>\n      <td>0.030614</td>\n    </tr>\n    <tr>\n      <th>gy1</th>\n      <td>0.070861</td>\n    </tr>\n    <tr>\n      <th>gz1</th>\n      <td>0.102018</td>\n    </tr>\n    <tr>\n      <th>ax2</th>\n      <td>0.133004</td>\n    </tr>\n    <tr>\n      <th>ay2</th>\n      <td>0.167283</td>\n    </tr>\n    <tr>\n      <th>az2</th>\n      <td>0.432275</td>\n    </tr>\n    <tr>\n      <th>gx2</th>\n      <td>0.791509</td>\n    </tr>\n    <tr>\n      <th>gy2</th>\n      <td>1.066819</td>\n    </tr>\n    <tr>\n      <th>gz2</th>\n      <td>2.137792</td>\n    </tr>\n    <tr>\n      <th>ax3</th>\n      <td>3.099133</td>\n    </tr>\n    <tr>\n      <th>ay3</th>\n      <td>4.309631</td>\n    </tr>\n    <tr>\n      <th>az3</th>\n      <td>6.331911</td>\n    </tr>\n    <tr>\n      <th>gx3</th>\n      <td>10.785475</td>\n    </tr>\n    <tr>\n      <th>gy3</th>\n      <td>20.444544</td>\n    </tr>\n    <tr>\n      <th>gz3</th>\n      <td>52.282929</td>\n    </tr>\n  </tbody>\n</table>\n</div>"
     },
     "execution_count": 291,
     "metadata": {},
     "output_type": "execute_result"
    }
   ],
   "source": [
    "df_eigvalues = pd.DataFrame(data=eigvalues, index=X.columns)\n",
    "df_eigvalues"
   ],
   "metadata": {
    "collapsed": false,
    "ExecuteTime": {
     "end_time": "2024-03-04T16:46:35.143862Z",
     "start_time": "2024-03-04T16:46:35.140153Z"
    }
   },
   "id": "decb1e25a83bea94",
   "execution_count": 291
  },
  {
   "cell_type": "code",
   "outputs": [
    {
     "data": {
      "text/plain": "             0\ngz3  52.282929\ngy3  20.444544\ngx3  10.785475\naz3   6.331911\nay3   4.309631\nax3   3.099133\ngz2   2.137792\ngy2   1.066819\ngx2   0.791509\naz2   0.432275\nay2   0.167283\nax2   0.133004\ngz1   0.102018\ngy1   0.070861\ngx1   0.030614\naz1   0.022377\nay1   0.015371\nax1   0.004886",
      "text/html": "<div>\n<style scoped>\n    .dataframe tbody tr th:only-of-type {\n        vertical-align: middle;\n    }\n\n    .dataframe tbody tr th {\n        vertical-align: top;\n    }\n\n    .dataframe thead th {\n        text-align: right;\n    }\n</style>\n<table border=\"1\" class=\"dataframe\">\n  <thead>\n    <tr style=\"text-align: right;\">\n      <th></th>\n      <th>0</th>\n    </tr>\n  </thead>\n  <tbody>\n    <tr>\n      <th>gz3</th>\n      <td>52.282929</td>\n    </tr>\n    <tr>\n      <th>gy3</th>\n      <td>20.444544</td>\n    </tr>\n    <tr>\n      <th>gx3</th>\n      <td>10.785475</td>\n    </tr>\n    <tr>\n      <th>az3</th>\n      <td>6.331911</td>\n    </tr>\n    <tr>\n      <th>ay3</th>\n      <td>4.309631</td>\n    </tr>\n    <tr>\n      <th>ax3</th>\n      <td>3.099133</td>\n    </tr>\n    <tr>\n      <th>gz2</th>\n      <td>2.137792</td>\n    </tr>\n    <tr>\n      <th>gy2</th>\n      <td>1.066819</td>\n    </tr>\n    <tr>\n      <th>gx2</th>\n      <td>0.791509</td>\n    </tr>\n    <tr>\n      <th>az2</th>\n      <td>0.432275</td>\n    </tr>\n    <tr>\n      <th>ay2</th>\n      <td>0.167283</td>\n    </tr>\n    <tr>\n      <th>ax2</th>\n      <td>0.133004</td>\n    </tr>\n    <tr>\n      <th>gz1</th>\n      <td>0.102018</td>\n    </tr>\n    <tr>\n      <th>gy1</th>\n      <td>0.070861</td>\n    </tr>\n    <tr>\n      <th>gx1</th>\n      <td>0.030614</td>\n    </tr>\n    <tr>\n      <th>az1</th>\n      <td>0.022377</td>\n    </tr>\n    <tr>\n      <th>ay1</th>\n      <td>0.015371</td>\n    </tr>\n    <tr>\n      <th>ax1</th>\n      <td>0.004886</td>\n    </tr>\n  </tbody>\n</table>\n</div>"
     },
     "execution_count": 292,
     "metadata": {},
     "output_type": "execute_result"
    }
   ],
   "source": [
    "df_eigvalues.sort_values(by=0, ascending=False, inplace=True)\n",
    "df_eigvalues"
   ],
   "metadata": {
    "collapsed": false,
    "ExecuteTime": {
     "end_time": "2024-03-04T16:46:35.151831Z",
     "start_time": "2024-03-04T16:46:35.144429Z"
    }
   },
   "id": "86d5bbf3989a388c",
   "execution_count": 292
  },
  {
   "cell_type": "code",
   "outputs": [
    {
     "data": {
      "text/plain": "           0         1         2         3         4         5         6   \\\nax1  0.000654 -0.014062 -0.006307 -0.001147 -0.020961  0.033988  0.000327   \nay1  0.002976 -0.005088  0.007492 -0.000176  0.008375  0.039206  0.007375   \naz1  0.000567 -0.004930 -0.002827  0.006119 -0.005325 -0.025793  0.025228   \ngx1 -0.041581 -0.005160 -0.043929 -0.144022  0.180054 -0.398732 -0.099212   \ngy1 -0.044014  0.141630 -0.004746  0.137778  0.844094  0.239518  0.315635   \ngz1 -0.026975 -0.050825  0.163277  0.012934  0.363787 -0.670003 -0.450933   \nax2 -0.003624  0.021085 -0.015747  0.006001 -0.027135 -0.063826 -0.024060   \nay2 -0.000651  0.017298  0.011370  0.005479 -0.003525 -0.027883 -0.028065   \naz2 -0.000247  0.015230  0.000298  0.000524 -0.016412 -0.002189  0.007609   \ngx2 -0.192954 -0.054825 -0.058788 -0.790357  0.114715  0.346040 -0.401500   \ngy2  0.095017  0.118867 -0.214742  0.516136 -0.027937  0.302460 -0.682338   \ngz2  0.121417 -0.103591  0.707198  0.076134  0.179420  0.324081 -0.215228   \nax3 -0.002188 -0.025338 -0.029806 -0.030520  0.001694  0.019370  0.041866   \nay3  0.006699 -0.045549 -0.031095  0.000232  0.016802 -0.002660  0.009054   \naz3  0.008916 -0.020852  0.030543 -0.003848  0.023567  0.024698  0.031615   \ngx3 -0.201309 -0.223186  0.593947  0.070451 -0.239166 -0.055411  0.090288   \ngy3  0.177917 -0.937648 -0.238327  0.077891  0.129550  0.059714  0.012426   \ngz3  0.928586  0.126860  0.094054 -0.226204 -0.015260 -0.051414  0.028723   \n\n           7         8         9         10        11        12        13  \\\nax1 -0.046452 -0.026856 -0.171500  0.441579 -0.578098  0.177622  0.020641   \nay1 -0.020796 -0.066952 -0.172867  0.147029 -0.082781  0.156324  0.032841   \naz1  0.002216 -0.058927  0.018271 -0.069311  0.055392 -0.362213 -0.285832   \ngx1  0.185106 -0.001420 -0.109676  0.077715  0.191655  0.446328 -0.693337   \ngy1  0.286909  0.027740  0.023058 -0.002068 -0.047293 -0.035972  0.046356   \ngz1 -0.090533 -0.047591 -0.005227  0.008010 -0.105941 -0.198682  0.348911   \nax2  0.073836 -0.008211  0.592339 -0.326888 -0.123264 -0.198354 -0.214259   \nay2  0.040006  0.100545  0.275343 -0.246844  0.114627  0.284148  0.167854   \naz2  0.046485 -0.214144  0.311453 -0.116909 -0.024906  0.640764  0.324211   \ngx2  0.167293  0.022289  0.009359 -0.013077 -0.014005 -0.056232  0.067746   \ngy2  0.310526 -0.026218 -0.043270  0.026914  0.041666  0.022642 -0.064837   \ngz2 -0.461122 -0.036559  0.072038 -0.013430  0.048986  0.113041 -0.223124   \nax3  0.043376 -0.940334  0.106113  0.118508  0.002553 -0.121553 -0.066362   \nay3 -0.020755  0.121234  0.408109  0.716976  0.516454 -0.073964  0.113263   \naz3 -0.023053 -0.171775 -0.466189 -0.234272  0.551396  0.029681  0.223564   \ngx3  0.685360  0.023806 -0.038607  0.055177 -0.021814 -0.055278  0.071219   \ngy3  0.000303  0.024649  0.012393 -0.059831 -0.028707  0.021024 -0.010617   \ngz3  0.231961  0.011211 -0.012728  0.018461 -0.018328 -0.033132  0.044948   \n\n           14        15        16        17  \nax1  0.013570  0.558688  0.256788 -0.162644  \nay1  0.083081 -0.262793  0.404850  0.818290  \naz1  0.714310 -0.051311  0.461889 -0.218645  \ngx1 -0.047909  0.042121 -0.030266 -0.018584  \ngy1  0.004429  0.011652  0.004410 -0.005705  \ngz1  0.036335 -0.022046  0.010739  0.019147  \nax2 -0.058985  0.515985 -0.011671  0.400409  \nay2 -0.371157 -0.086481  0.710691 -0.277733  \naz2  0.535888  0.007822 -0.191313 -0.024426  \ngx2  0.027481  0.003934  0.008486 -0.002122  \ngy2  0.012699  0.009036 -0.002304 -0.008571  \ngz2 -0.011585  0.011686 -0.016379 -0.014700  \nax3 -0.216719 -0.098385  0.041814 -0.080055  \nay3  0.029864  0.107879  0.040726  0.039926  \naz3  0.041157  0.564189  0.100921  0.095035  \ngx3  0.003206 -0.007568 -0.001666  0.003070  \ngy3 -0.000414 -0.008059 -0.002302 -0.001086  \ngz3  0.003639 -0.003926  0.000863  0.000283  ",
      "text/html": "<div>\n<style scoped>\n    .dataframe tbody tr th:only-of-type {\n        vertical-align: middle;\n    }\n\n    .dataframe tbody tr th {\n        vertical-align: top;\n    }\n\n    .dataframe thead th {\n        text-align: right;\n    }\n</style>\n<table border=\"1\" class=\"dataframe\">\n  <thead>\n    <tr style=\"text-align: right;\">\n      <th></th>\n      <th>0</th>\n      <th>1</th>\n      <th>2</th>\n      <th>3</th>\n      <th>4</th>\n      <th>5</th>\n      <th>6</th>\n      <th>7</th>\n      <th>8</th>\n      <th>9</th>\n      <th>10</th>\n      <th>11</th>\n      <th>12</th>\n      <th>13</th>\n      <th>14</th>\n      <th>15</th>\n      <th>16</th>\n      <th>17</th>\n    </tr>\n  </thead>\n  <tbody>\n    <tr>\n      <th>ax1</th>\n      <td>0.000654</td>\n      <td>-0.014062</td>\n      <td>-0.006307</td>\n      <td>-0.001147</td>\n      <td>-0.020961</td>\n      <td>0.033988</td>\n      <td>0.000327</td>\n      <td>-0.046452</td>\n      <td>-0.026856</td>\n      <td>-0.171500</td>\n      <td>0.441579</td>\n      <td>-0.578098</td>\n      <td>0.177622</td>\n      <td>0.020641</td>\n      <td>0.013570</td>\n      <td>0.558688</td>\n      <td>0.256788</td>\n      <td>-0.162644</td>\n    </tr>\n    <tr>\n      <th>ay1</th>\n      <td>0.002976</td>\n      <td>-0.005088</td>\n      <td>0.007492</td>\n      <td>-0.000176</td>\n      <td>0.008375</td>\n      <td>0.039206</td>\n      <td>0.007375</td>\n      <td>-0.020796</td>\n      <td>-0.066952</td>\n      <td>-0.172867</td>\n      <td>0.147029</td>\n      <td>-0.082781</td>\n      <td>0.156324</td>\n      <td>0.032841</td>\n      <td>0.083081</td>\n      <td>-0.262793</td>\n      <td>0.404850</td>\n      <td>0.818290</td>\n    </tr>\n    <tr>\n      <th>az1</th>\n      <td>0.000567</td>\n      <td>-0.004930</td>\n      <td>-0.002827</td>\n      <td>0.006119</td>\n      <td>-0.005325</td>\n      <td>-0.025793</td>\n      <td>0.025228</td>\n      <td>0.002216</td>\n      <td>-0.058927</td>\n      <td>0.018271</td>\n      <td>-0.069311</td>\n      <td>0.055392</td>\n      <td>-0.362213</td>\n      <td>-0.285832</td>\n      <td>0.714310</td>\n      <td>-0.051311</td>\n      <td>0.461889</td>\n      <td>-0.218645</td>\n    </tr>\n    <tr>\n      <th>gx1</th>\n      <td>-0.041581</td>\n      <td>-0.005160</td>\n      <td>-0.043929</td>\n      <td>-0.144022</td>\n      <td>0.180054</td>\n      <td>-0.398732</td>\n      <td>-0.099212</td>\n      <td>0.185106</td>\n      <td>-0.001420</td>\n      <td>-0.109676</td>\n      <td>0.077715</td>\n      <td>0.191655</td>\n      <td>0.446328</td>\n      <td>-0.693337</td>\n      <td>-0.047909</td>\n      <td>0.042121</td>\n      <td>-0.030266</td>\n      <td>-0.018584</td>\n    </tr>\n    <tr>\n      <th>gy1</th>\n      <td>-0.044014</td>\n      <td>0.141630</td>\n      <td>-0.004746</td>\n      <td>0.137778</td>\n      <td>0.844094</td>\n      <td>0.239518</td>\n      <td>0.315635</td>\n      <td>0.286909</td>\n      <td>0.027740</td>\n      <td>0.023058</td>\n      <td>-0.002068</td>\n      <td>-0.047293</td>\n      <td>-0.035972</td>\n      <td>0.046356</td>\n      <td>0.004429</td>\n      <td>0.011652</td>\n      <td>0.004410</td>\n      <td>-0.005705</td>\n    </tr>\n    <tr>\n      <th>gz1</th>\n      <td>-0.026975</td>\n      <td>-0.050825</td>\n      <td>0.163277</td>\n      <td>0.012934</td>\n      <td>0.363787</td>\n      <td>-0.670003</td>\n      <td>-0.450933</td>\n      <td>-0.090533</td>\n      <td>-0.047591</td>\n      <td>-0.005227</td>\n      <td>0.008010</td>\n      <td>-0.105941</td>\n      <td>-0.198682</td>\n      <td>0.348911</td>\n      <td>0.036335</td>\n      <td>-0.022046</td>\n      <td>0.010739</td>\n      <td>0.019147</td>\n    </tr>\n    <tr>\n      <th>ax2</th>\n      <td>-0.003624</td>\n      <td>0.021085</td>\n      <td>-0.015747</td>\n      <td>0.006001</td>\n      <td>-0.027135</td>\n      <td>-0.063826</td>\n      <td>-0.024060</td>\n      <td>0.073836</td>\n      <td>-0.008211</td>\n      <td>0.592339</td>\n      <td>-0.326888</td>\n      <td>-0.123264</td>\n      <td>-0.198354</td>\n      <td>-0.214259</td>\n      <td>-0.058985</td>\n      <td>0.515985</td>\n      <td>-0.011671</td>\n      <td>0.400409</td>\n    </tr>\n    <tr>\n      <th>ay2</th>\n      <td>-0.000651</td>\n      <td>0.017298</td>\n      <td>0.011370</td>\n      <td>0.005479</td>\n      <td>-0.003525</td>\n      <td>-0.027883</td>\n      <td>-0.028065</td>\n      <td>0.040006</td>\n      <td>0.100545</td>\n      <td>0.275343</td>\n      <td>-0.246844</td>\n      <td>0.114627</td>\n      <td>0.284148</td>\n      <td>0.167854</td>\n      <td>-0.371157</td>\n      <td>-0.086481</td>\n      <td>0.710691</td>\n      <td>-0.277733</td>\n    </tr>\n    <tr>\n      <th>az2</th>\n      <td>-0.000247</td>\n      <td>0.015230</td>\n      <td>0.000298</td>\n      <td>0.000524</td>\n      <td>-0.016412</td>\n      <td>-0.002189</td>\n      <td>0.007609</td>\n      <td>0.046485</td>\n      <td>-0.214144</td>\n      <td>0.311453</td>\n      <td>-0.116909</td>\n      <td>-0.024906</td>\n      <td>0.640764</td>\n      <td>0.324211</td>\n      <td>0.535888</td>\n      <td>0.007822</td>\n      <td>-0.191313</td>\n      <td>-0.024426</td>\n    </tr>\n    <tr>\n      <th>gx2</th>\n      <td>-0.192954</td>\n      <td>-0.054825</td>\n      <td>-0.058788</td>\n      <td>-0.790357</td>\n      <td>0.114715</td>\n      <td>0.346040</td>\n      <td>-0.401500</td>\n      <td>0.167293</td>\n      <td>0.022289</td>\n      <td>0.009359</td>\n      <td>-0.013077</td>\n      <td>-0.014005</td>\n      <td>-0.056232</td>\n      <td>0.067746</td>\n      <td>0.027481</td>\n      <td>0.003934</td>\n      <td>0.008486</td>\n      <td>-0.002122</td>\n    </tr>\n    <tr>\n      <th>gy2</th>\n      <td>0.095017</td>\n      <td>0.118867</td>\n      <td>-0.214742</td>\n      <td>0.516136</td>\n      <td>-0.027937</td>\n      <td>0.302460</td>\n      <td>-0.682338</td>\n      <td>0.310526</td>\n      <td>-0.026218</td>\n      <td>-0.043270</td>\n      <td>0.026914</td>\n      <td>0.041666</td>\n      <td>0.022642</td>\n      <td>-0.064837</td>\n      <td>0.012699</td>\n      <td>0.009036</td>\n      <td>-0.002304</td>\n      <td>-0.008571</td>\n    </tr>\n    <tr>\n      <th>gz2</th>\n      <td>0.121417</td>\n      <td>-0.103591</td>\n      <td>0.707198</td>\n      <td>0.076134</td>\n      <td>0.179420</td>\n      <td>0.324081</td>\n      <td>-0.215228</td>\n      <td>-0.461122</td>\n      <td>-0.036559</td>\n      <td>0.072038</td>\n      <td>-0.013430</td>\n      <td>0.048986</td>\n      <td>0.113041</td>\n      <td>-0.223124</td>\n      <td>-0.011585</td>\n      <td>0.011686</td>\n      <td>-0.016379</td>\n      <td>-0.014700</td>\n    </tr>\n    <tr>\n      <th>ax3</th>\n      <td>-0.002188</td>\n      <td>-0.025338</td>\n      <td>-0.029806</td>\n      <td>-0.030520</td>\n      <td>0.001694</td>\n      <td>0.019370</td>\n      <td>0.041866</td>\n      <td>0.043376</td>\n      <td>-0.940334</td>\n      <td>0.106113</td>\n      <td>0.118508</td>\n      <td>0.002553</td>\n      <td>-0.121553</td>\n      <td>-0.066362</td>\n      <td>-0.216719</td>\n      <td>-0.098385</td>\n      <td>0.041814</td>\n      <td>-0.080055</td>\n    </tr>\n    <tr>\n      <th>ay3</th>\n      <td>0.006699</td>\n      <td>-0.045549</td>\n      <td>-0.031095</td>\n      <td>0.000232</td>\n      <td>0.016802</td>\n      <td>-0.002660</td>\n      <td>0.009054</td>\n      <td>-0.020755</td>\n      <td>0.121234</td>\n      <td>0.408109</td>\n      <td>0.716976</td>\n      <td>0.516454</td>\n      <td>-0.073964</td>\n      <td>0.113263</td>\n      <td>0.029864</td>\n      <td>0.107879</td>\n      <td>0.040726</td>\n      <td>0.039926</td>\n    </tr>\n    <tr>\n      <th>az3</th>\n      <td>0.008916</td>\n      <td>-0.020852</td>\n      <td>0.030543</td>\n      <td>-0.003848</td>\n      <td>0.023567</td>\n      <td>0.024698</td>\n      <td>0.031615</td>\n      <td>-0.023053</td>\n      <td>-0.171775</td>\n      <td>-0.466189</td>\n      <td>-0.234272</td>\n      <td>0.551396</td>\n      <td>0.029681</td>\n      <td>0.223564</td>\n      <td>0.041157</td>\n      <td>0.564189</td>\n      <td>0.100921</td>\n      <td>0.095035</td>\n    </tr>\n    <tr>\n      <th>gx3</th>\n      <td>-0.201309</td>\n      <td>-0.223186</td>\n      <td>0.593947</td>\n      <td>0.070451</td>\n      <td>-0.239166</td>\n      <td>-0.055411</td>\n      <td>0.090288</td>\n      <td>0.685360</td>\n      <td>0.023806</td>\n      <td>-0.038607</td>\n      <td>0.055177</td>\n      <td>-0.021814</td>\n      <td>-0.055278</td>\n      <td>0.071219</td>\n      <td>0.003206</td>\n      <td>-0.007568</td>\n      <td>-0.001666</td>\n      <td>0.003070</td>\n    </tr>\n    <tr>\n      <th>gy3</th>\n      <td>0.177917</td>\n      <td>-0.937648</td>\n      <td>-0.238327</td>\n      <td>0.077891</td>\n      <td>0.129550</td>\n      <td>0.059714</td>\n      <td>0.012426</td>\n      <td>0.000303</td>\n      <td>0.024649</td>\n      <td>0.012393</td>\n      <td>-0.059831</td>\n      <td>-0.028707</td>\n      <td>0.021024</td>\n      <td>-0.010617</td>\n      <td>-0.000414</td>\n      <td>-0.008059</td>\n      <td>-0.002302</td>\n      <td>-0.001086</td>\n    </tr>\n    <tr>\n      <th>gz3</th>\n      <td>0.928586</td>\n      <td>0.126860</td>\n      <td>0.094054</td>\n      <td>-0.226204</td>\n      <td>-0.015260</td>\n      <td>-0.051414</td>\n      <td>0.028723</td>\n      <td>0.231961</td>\n      <td>0.011211</td>\n      <td>-0.012728</td>\n      <td>0.018461</td>\n      <td>-0.018328</td>\n      <td>-0.033132</td>\n      <td>0.044948</td>\n      <td>0.003639</td>\n      <td>-0.003926</td>\n      <td>0.000863</td>\n      <td>0.000283</td>\n    </tr>\n  </tbody>\n</table>\n</div>"
     },
     "execution_count": 293,
     "metadata": {},
     "output_type": "execute_result"
    }
   ],
   "source": [
    "df_eigvectors = pd.DataFrame(data=eigvectors, index=X.columns)\n",
    "df_eigvectors"
   ],
   "metadata": {
    "collapsed": false,
    "ExecuteTime": {
     "end_time": "2024-03-04T16:46:35.175253Z",
     "start_time": "2024-03-04T16:46:35.165045Z"
    }
   },
   "id": "a689079686166e5e",
   "execution_count": 293
  },
  {
   "cell_type": "markdown",
   "source": [
    "### Transformasi\n",
    "\n",
    "Dengan memilih nilai K dengan 75% informasi data yang kita gunakan, maka:"
   ],
   "metadata": {
    "collapsed": false
   },
   "id": "383445755d693b32"
  },
  {
   "cell_type": "code",
   "outputs": [
    {
     "data": {
      "text/plain": "(0.8169248639198257, ['gz3', 'gy3', 'gx3'])"
     },
     "execution_count": 294,
     "metadata": {},
     "output_type": "execute_result"
    }
   ],
   "source": [
    "K_min_percentage = 0.75\n",
    "K_percentage_temp = 0.0\n",
    "sum_eigvalues = eigvalues.sum()\n",
    "\n",
    "fitur = []\n",
    "\n",
    "for index, value in df_eigvalues.itertuples():        \n",
    "    K_percentage_temp += value / sum_eigvalues\n",
    "    fitur.append(index)\n",
    "    \n",
    "    if K_percentage_temp > K_min_percentage:\n",
    "        break\n",
    "        \n",
    "K_percentage_temp, fitur"
   ],
   "metadata": {
    "collapsed": false,
    "ExecuteTime": {
     "end_time": "2024-03-04T16:46:35.271932Z",
     "start_time": "2024-03-04T16:46:35.267624Z"
    }
   },
   "id": "8c993d4f6b59bb2c",
   "execution_count": 294
  },
  {
   "cell_type": "code",
   "outputs": [
    {
     "data": {
      "text/plain": "           0         1         2         3         4         5         6   \\\ngz3  0.928586  0.126860  0.094054 -0.226204 -0.015260 -0.051414  0.028723   \ngy3  0.177917 -0.937648 -0.238327  0.077891  0.129550  0.059714  0.012426   \ngx3 -0.201309 -0.223186  0.593947  0.070451 -0.239166 -0.055411  0.090288   \n\n           7         8         9         10        11        12        13  \\\ngz3  0.231961  0.011211 -0.012728  0.018461 -0.018328 -0.033132  0.044948   \ngy3  0.000303  0.024649  0.012393 -0.059831 -0.028707  0.021024 -0.010617   \ngx3  0.685360  0.023806 -0.038607  0.055177 -0.021814 -0.055278  0.071219   \n\n           14        15        16        17  \ngz3  0.003639 -0.003926  0.000863  0.000283  \ngy3 -0.000414 -0.008059 -0.002302 -0.001086  \ngx3  0.003206 -0.007568 -0.001666  0.003070  ",
      "text/html": "<div>\n<style scoped>\n    .dataframe tbody tr th:only-of-type {\n        vertical-align: middle;\n    }\n\n    .dataframe tbody tr th {\n        vertical-align: top;\n    }\n\n    .dataframe thead th {\n        text-align: right;\n    }\n</style>\n<table border=\"1\" class=\"dataframe\">\n  <thead>\n    <tr style=\"text-align: right;\">\n      <th></th>\n      <th>0</th>\n      <th>1</th>\n      <th>2</th>\n      <th>3</th>\n      <th>4</th>\n      <th>5</th>\n      <th>6</th>\n      <th>7</th>\n      <th>8</th>\n      <th>9</th>\n      <th>10</th>\n      <th>11</th>\n      <th>12</th>\n      <th>13</th>\n      <th>14</th>\n      <th>15</th>\n      <th>16</th>\n      <th>17</th>\n    </tr>\n  </thead>\n  <tbody>\n    <tr>\n      <th>gz3</th>\n      <td>0.928586</td>\n      <td>0.126860</td>\n      <td>0.094054</td>\n      <td>-0.226204</td>\n      <td>-0.015260</td>\n      <td>-0.051414</td>\n      <td>0.028723</td>\n      <td>0.231961</td>\n      <td>0.011211</td>\n      <td>-0.012728</td>\n      <td>0.018461</td>\n      <td>-0.018328</td>\n      <td>-0.033132</td>\n      <td>0.044948</td>\n      <td>0.003639</td>\n      <td>-0.003926</td>\n      <td>0.000863</td>\n      <td>0.000283</td>\n    </tr>\n    <tr>\n      <th>gy3</th>\n      <td>0.177917</td>\n      <td>-0.937648</td>\n      <td>-0.238327</td>\n      <td>0.077891</td>\n      <td>0.129550</td>\n      <td>0.059714</td>\n      <td>0.012426</td>\n      <td>0.000303</td>\n      <td>0.024649</td>\n      <td>0.012393</td>\n      <td>-0.059831</td>\n      <td>-0.028707</td>\n      <td>0.021024</td>\n      <td>-0.010617</td>\n      <td>-0.000414</td>\n      <td>-0.008059</td>\n      <td>-0.002302</td>\n      <td>-0.001086</td>\n    </tr>\n    <tr>\n      <th>gx3</th>\n      <td>-0.201309</td>\n      <td>-0.223186</td>\n      <td>0.593947</td>\n      <td>0.070451</td>\n      <td>-0.239166</td>\n      <td>-0.055411</td>\n      <td>0.090288</td>\n      <td>0.685360</td>\n      <td>0.023806</td>\n      <td>-0.038607</td>\n      <td>0.055177</td>\n      <td>-0.021814</td>\n      <td>-0.055278</td>\n      <td>0.071219</td>\n      <td>0.003206</td>\n      <td>-0.007568</td>\n      <td>-0.001666</td>\n      <td>0.003070</td>\n    </tr>\n  </tbody>\n</table>\n</div>"
     },
     "execution_count": 295,
     "metadata": {},
     "output_type": "execute_result"
    }
   ],
   "source": [
    "df_eigvectors_selected = df_eigvectors.loc[fitur, :]\n",
    "df_eigvectors_selected"
   ],
   "metadata": {
    "collapsed": false,
    "ExecuteTime": {
     "end_time": "2024-03-04T16:46:35.365827Z",
     "start_time": "2024-03-04T16:46:35.359926Z"
    }
   },
   "id": "2fdf77dcdd98d31c",
   "execution_count": 295
  },
  {
   "cell_type": "code",
   "outputs": [
    {
     "data": {
      "text/plain": "array([[ 7.15483387e-02, -4.67794649e+00,  1.16180530e+00],\n       [-4.33879814e-01, -6.47410801e+00,  2.67067809e-01],\n       [ 1.25522841e+00, -4.83485946e+00,  1.52616464e+00],\n       [ 4.33939746e-01, -5.65008009e+00,  7.60156218e-01],\n       [ 1.12356753e+00, -4.94355639e+00,  1.18412787e+00],\n       [-7.56009686e-01, -6.83849348e+00,  7.11394012e-01],\n       [ 1.56565657e-02, -6.15891638e+00,  6.59322701e-01],\n       [-4.55933843e-01, -6.20097569e+00,  3.09994079e-01],\n       [ 1.10139158e+00, -4.75017532e+00,  9.55351769e-01],\n       [ 2.56692289e-01, -5.78238929e+00,  5.31034355e-01],\n       [-1.71417632e-01, -6.24721503e+00,  5.91880685e-01],\n       [-6.97877760e-02, -4.33636744e+00,  9.46652084e-01],\n       [ 1.82292168e+00, -4.81166712e+00,  2.10090454e+00],\n       [ 7.53029155e-01, -4.70636108e+00,  5.99633252e-01],\n       [ 7.06812963e-01, -5.66479176e+00,  9.75182696e-01],\n       [ 9.50063601e-01, -3.65417800e+00,  1.19698276e+00],\n       [ 2.69621326e+00, -4.78652359e+00,  1.17991353e+00],\n       [ 2.20164439e+00, -4.05433399e+00,  2.98407175e+00],\n       [ 2.29741035e+00, -3.35644427e+00,  1.25403187e+00],\n       [ 5.76341969e-01, -5.52102567e+00,  8.64727896e-01],\n       [ 1.50552005e+00, -4.29242275e+00,  1.55552386e+00],\n       [ 7.37663638e-01, -5.57108033e+00,  7.61271741e-01],\n       [ 1.21501546e+00, -3.93967674e+00,  1.44142901e+00],\n       [ 1.35736520e+00, -4.17048596e+00,  1.16521084e+00],\n       [ 1.10091565e+00, -5.02274737e+00,  1.07306041e+00],\n       [ 3.53324463e-01, -5.39457478e+00,  5.68607754e-01],\n       [-2.57069733e-01, -4.81801036e+00,  6.93892249e-01],\n       [ 8.68416768e-01, -2.87486050e+00,  1.42134444e+00],\n       [ 1.33594301e+00, -5.56134617e+00,  5.23807668e-01],\n       [-3.65280285e-01, -4.53171585e+00,  8.05892598e-01],\n       [ 1.53042236e-01, -4.78518657e+00,  9.29106333e-01],\n       [ 4.86367962e-01, -3.60827936e+00,  1.23692631e+00],\n       [ 4.02434293e-01, -3.99927518e+00,  1.07015647e+00],\n       [ 3.62987994e-01, -2.68798376e+00,  1.28710623e+00],\n       [ 1.37932718e-01, -4.78845149e+00,  4.91021423e-01],\n       [-2.10853309e-01, -4.61962763e+00,  6.47920044e-01],\n       [ 9.65023274e-02, -4.05295460e+00,  7.09737570e-01],\n       [-4.84647162e-01, -5.90855437e+00,  2.67424029e-01],\n       [-1.91944032e-01, -4.39601321e+00, -1.78851634e+00],\n       [ 3.89226591e-01, -3.66215367e+00, -1.83710926e+00],\n       [-5.71080790e-01, -5.24794287e+00, -3.40354864e+00],\n       [ 8.91628948e-01, -2.72978373e+00, -1.99117032e+00],\n       [ 1.13453825e+00, -2.69919876e+00, -1.47659588e+00],\n       [ 1.40427174e+00, -2.35500121e+00, -2.25803237e+00],\n       [ 1.20876918e+00, -2.41108850e+00, -2.04991998e+00],\n       [ 2.74852956e-03, -4.93232811e+00, -2.22762833e+00],\n       [ 1.06282281e+00, -2.70606872e+00, -1.54662748e+00],\n       [-2.75649983e-01, -3.60122560e+00, -7.12799754e-01],\n       [ 5.15411032e-01, -2.47754525e+00,  9.92095782e-02],\n       [ 1.79811469e+00, -3.47353630e+00, -1.14113293e-01],\n       [ 1.94008320e+00, -3.28156462e+00,  3.35735411e-01],\n       [-2.43949206e+00, -4.35267667e+00, -9.85590014e-01],\n       [-1.71747043e+00, -6.10284797e+00, -3.11881232e+00],\n       [-7.13379235e-01, -5.54652529e+00, -1.17500991e+00],\n       [-1.11569575e+00, -3.89671249e+00,  1.63215990e+00],\n       [-2.73241315e+00, -2.93787132e+00,  6.68474785e-01],\n       [-1.92292104e+00, -4.80022930e+00, -2.05351735e+00],\n       [-2.35145183e+00, -5.34191841e+00, -2.59330647e+00],\n       [-1.63266972e+00, -6.41309841e+00, -1.19270511e+00],\n       [-8.22950813e-01, -4.53180610e+00,  1.00602585e+00],\n       [ 8.66208463e-02, -3.87221802e+00,  3.41365123e-01],\n       [-4.22856278e-01, -6.15733159e+00, -2.27270683e-01],\n       [-9.71657069e-01, -6.49148839e+00,  1.01045428e+00],\n       [-1.87412869e+00, -6.01360754e+00,  1.14718493e+00],\n       [-1.06675503e+00, -3.82705250e+00,  2.59447119e+00],\n       [-8.90836450e-01, -6.34893218e+00,  6.41243065e-01],\n       [-1.41270589e+00, -6.73431690e+00,  1.05649402e+00],\n       [-1.75528072e+00, -5.75728374e+00,  1.40805714e+00],\n       [-5.96057443e-01, -5.78163661e+00,  1.21431697e+00],\n       [-5.91176493e-01, -6.08214931e+00,  3.57010899e-01],\n       [-9.75372633e-02, -6.29999181e+00, -5.43037296e-02],\n       [-3.30988484e-01, -6.50539024e+00,  3.92495171e-01],\n       [-1.55809134e+00, -6.43897639e+00, -8.05749556e-02],\n       [-2.01066558e+00,  6.63025272e+00,  2.66852416e+00],\n       [ 1.98458086e+00,  3.24082987e+00,  3.39161983e+00],\n       [-9.05924874e-01,  8.73266260e-01,  2.50632902e+00],\n       [-7.83477132e-01,  6.04425049e+00,  4.96227121e+00],\n       [-1.96364963e+00,  1.08963809e+01,  4.08066464e+00],\n       [ 8.70461906e-01,  6.75336483e+00,  3.96764437e+00],\n       [ 8.48690766e-01,  1.49332325e+00,  2.63507829e+00],\n       [ 7.02717823e-01,  7.55137889e+00,  4.30424002e+00],\n       [ 7.42167473e-01,  1.04262565e+01,  3.83849218e+00],\n       [ 2.17774479e+00,  8.32864761e+00,  3.46339597e+00],\n       [ 1.36094444e+00,  1.32904867e+00,  9.92528163e-01],\n       [-7.50790339e-01,  1.03017446e+01,  4.37471342e+00],\n       [ 4.39110392e-01,  9.08709447e+00,  4.44321146e+00],\n       [ 1.37016980e+00,  5.64744167e+00,  4.43587149e+00],\n       [ 2.65233050e+00,  9.40167173e+00,  6.64389772e+00],\n       [ 3.26064435e+00,  6.64669374e+00,  6.88738736e+00],\n       [ 2.18820079e+00,  4.12108855e+00,  5.28747761e+00],\n       [ 8.45575818e-01,  1.65672429e+00,  2.57689329e+00],\n       [-1.46775852e-01,  1.02025815e+01,  5.05456318e+00],\n       [ 2.33836820e+00,  2.39617096e+00,  4.39670855e+00],\n       [-5.74058979e+00,  8.78011855e+00,  1.34149393e+00],\n       [-3.79155805e-01,  5.34084286e-01,  4.00389444e+00],\n       [-2.27039400e+00,  9.05253933e+00,  4.28621347e+00],\n       [-1.53913817e-02, -1.45300107e+00,  1.73724324e+00],\n       [-2.28502641e+00,  8.51250882e+00,  4.67978678e+00],\n       [-4.01437444e-01,  6.50223491e-01,  3.41639521e+00],\n       [ 3.21249197e-01,  5.12910254e+00,  4.85280284e+00],\n       [-2.53802935e+00,  8.05158764e+00,  5.22981060e+00],\n       [ 1.99653914e+00, -2.97382452e+00,  1.98680976e+00],\n       [-3.43423509e+00,  9.19634016e+00,  4.34470706e+00],\n       [ 9.66146075e-01, -5.28533990e+00, -9.52419039e-01],\n       [-4.11164626e+00,  1.31757062e+01,  1.59431381e+00],\n       [-1.83033552e+00,  1.15534504e+01,  4.90602110e+00],\n       [ 8.33248538e-02,  2.13368852e+00,  3.05846718e+00],\n       [-4.14117161e+00,  1.40113411e+01,  4.55226119e+00],\n       [ 1.33971901e+00, -5.77400704e-01,  2.01513170e+00],\n       [-4.41528570e+00,  1.21130344e+01,  3.46351797e+00],\n       [ 1.15220100e+00, -3.77376997e+00,  8.21630705e-01],\n       [-5.56635538e+00,  1.27388302e+01,  1.16392408e+00],\n       [ 1.09414733e+00, -3.08622623e+00, -8.83076985e-01],\n       [-5.86148083e+00, -2.39665238e+00, -8.53454131e+00],\n       [-8.53180160e+00, -1.28269009e+00, -1.29412478e+01],\n       [-1.55611159e+00, -4.36104995e+00, -4.91078077e+00],\n       [-7.72148554e+00, -2.01841479e+00, -1.19159489e+01],\n       [-3.00876650e+00, -3.65692788e+00, -6.59538057e+00],\n       [-6.33319821e+00, -3.56798559e+00, -1.10950376e+01],\n       [-4.63422991e+00, -1.80499353e+00, -6.72789755e+00],\n       [-4.72803879e+00, -3.61917832e+00, -9.67815307e+00],\n       [-7.22854153e+00, -8.00415642e-01, -9.91823107e+00],\n       [-1.90079534e+00, -4.20911456e+00, -7.16475754e+00],\n       [-9.81782209e+00,  2.57449689e-01, -1.17666247e+01],\n       [ 1.06719075e+00, -2.96232058e+00, -3.57641174e+00],\n       [-1.24024195e+01,  2.64783967e+00, -1.51487275e+01],\n       [ 1.53956492e+00, -3.83586575e+00, -3.58237976e+00],\n       [-1.16377586e+01,  1.32658488e-01, -1.45789291e+01],\n       [-1.48323371e+00, -4.71225388e+00, -5.85900482e+00],\n       [-7.44978636e+00, -2.59651202e+00, -1.19661513e+01],\n       [-3.79045006e+00, -2.91640428e+00, -6.93593719e+00],\n       [-5.68768967e+00, -3.83709118e+00, -1.07250948e+01],\n       [-7.30297315e+00,  1.45366479e-01, -1.10108309e+01],\n       [-1.54393736e+00,  8.31984032e+00, -1.17854078e+00],\n       [ 1.53717735e-01,  1.09097805e+01,  1.37208382e+00],\n       [ 3.02410773e+00,  1.30942128e+00,  7.43997749e-03],\n       [ 2.49496594e+00,  9.10418283e+00,  4.53567928e+00],\n       [ 2.92014013e+00, -2.37427150e+00, -1.89461221e+00],\n       [ 2.01160377e+00,  8.78185495e+00,  3.96950273e+00],\n       [ 3.40550737e+00, -1.71744986e+00, -1.70683329e+00],\n       [ 3.53090188e+00,  3.71825227e+00,  1.30495976e+00],\n       [ 3.17020134e+00,  6.02697024e+00,  3.28288519e+00],\n       [ 3.52996406e+00, -1.26047510e+00, -2.31497081e+00],\n       [ 2.72190617e+00,  1.03779213e+01,  3.06338280e+00],\n       [ 4.28229332e+00, -1.70381246e+00, -2.63618731e+00],\n       [ 3.56413022e+00,  1.12341612e+01,  3.16779523e+00],\n       [ 4.35816126e+00, -2.01280148e+00, -2.26097958e+00],\n       [ 2.93405965e+00,  9.43022908e+00,  3.38058579e+00],\n       [ 3.63219793e+00, -1.76498077e+00, -1.10700217e+00],\n       [ 3.35274330e+00,  8.21334352e+00,  3.65513816e+00],\n       [ 5.06748090e+00, -1.16558717e+00, -2.82778837e-01],\n       [ 1.98254047e+00,  6.84872724e+00,  4.25167345e+00],\n       [ 2.13090091e+00,  7.79451000e-01,  2.00509255e+00],\n       [ 3.33441250e+00,  3.39762777e+00,  2.07503336e+00],\n       [ 1.71923112e+00,  4.33006090e+00,  3.50346353e+00],\n       [ 3.62723842e+00,  1.53707274e+00,  4.09109314e-01],\n       [ 2.05396510e+00,  5.18930860e+00,  3.79636151e+00],\n       [ 4.09897413e+00, -1.52415642e+00, -1.32418784e+00],\n       [ 2.96037846e+00,  9.88493214e+00,  3.39928988e+00],\n       [ 3.51291758e+00, -2.70909965e+00, -2.89491233e+00],\n       [ 3.01056244e+00,  1.03344765e+01,  3.03323489e+00],\n       [ 2.22639189e+00, -1.13623970e+00, -4.19896903e+00],\n       [ 3.72981641e+00,  1.09752132e+01,  3.93840449e+00],\n       [ 2.58416619e+00, -1.47898517e+00, -3.29766150e+00],\n       [ 3.98546686e+00,  1.09315194e+01,  3.51783597e+00],\n       [ 2.98283939e+00, -2.17599323e+00, -4.76173218e+00],\n       [ 5.07197364e+00,  1.18752613e+01,  2.99073567e+00],\n       [ 9.10288766e-01,  6.89091308e-01, -8.69108034e+00],\n       [ 5.04583594e+00,  1.09841993e+01,  4.15852044e+00],\n       [ 2.24504054e+00,  1.43412850e+00, -4.68462594e+00],\n       [ 3.73928795e+00,  9.49157049e+00,  4.23100916e+00],\n       [ 2.70950672e+00,  2.23929162e+00, -1.34636318e+00],\n       [ 1.60318899e+00,  4.84446842e+00,  3.20646250e+00]])"
     },
     "execution_count": 296,
     "metadata": {},
     "output_type": "execute_result"
    }
   ],
   "source": [
    "principal_components = np.dot(df_eigvectors_selected.values, X_zero_mean.T).T\n",
    "principal_components"
   ],
   "metadata": {
    "collapsed": false,
    "ExecuteTime": {
     "end_time": "2024-03-04T16:46:35.449330Z",
     "start_time": "2024-03-04T16:46:35.444044Z"
    }
   },
   "id": "627c028693b05b46",
   "execution_count": 296
  },
  {
   "cell_type": "code",
   "outputs": [
    {
     "data": {
      "text/plain": "          gz3        gy3       gx3\n0    0.071548  -4.677946  1.161805\n1   -0.433880  -6.474108  0.267068\n2    1.255228  -4.834859  1.526165\n3    0.433940  -5.650080  0.760156\n4    1.123568  -4.943556  1.184128\n..        ...        ...       ...\n168  5.045836  10.984199  4.158520\n169  2.245041   1.434129 -4.684626\n170  3.739288   9.491570  4.231009\n171  2.709507   2.239292 -1.346363\n172  1.603189   4.844468  3.206462\n\n[173 rows x 3 columns]",
      "text/html": "<div>\n<style scoped>\n    .dataframe tbody tr th:only-of-type {\n        vertical-align: middle;\n    }\n\n    .dataframe tbody tr th {\n        vertical-align: top;\n    }\n\n    .dataframe thead th {\n        text-align: right;\n    }\n</style>\n<table border=\"1\" class=\"dataframe\">\n  <thead>\n    <tr style=\"text-align: right;\">\n      <th></th>\n      <th>gz3</th>\n      <th>gy3</th>\n      <th>gx3</th>\n    </tr>\n  </thead>\n  <tbody>\n    <tr>\n      <th>0</th>\n      <td>0.071548</td>\n      <td>-4.677946</td>\n      <td>1.161805</td>\n    </tr>\n    <tr>\n      <th>1</th>\n      <td>-0.433880</td>\n      <td>-6.474108</td>\n      <td>0.267068</td>\n    </tr>\n    <tr>\n      <th>2</th>\n      <td>1.255228</td>\n      <td>-4.834859</td>\n      <td>1.526165</td>\n    </tr>\n    <tr>\n      <th>3</th>\n      <td>0.433940</td>\n      <td>-5.650080</td>\n      <td>0.760156</td>\n    </tr>\n    <tr>\n      <th>4</th>\n      <td>1.123568</td>\n      <td>-4.943556</td>\n      <td>1.184128</td>\n    </tr>\n    <tr>\n      <th>...</th>\n      <td>...</td>\n      <td>...</td>\n      <td>...</td>\n    </tr>\n    <tr>\n      <th>168</th>\n      <td>5.045836</td>\n      <td>10.984199</td>\n      <td>4.158520</td>\n    </tr>\n    <tr>\n      <th>169</th>\n      <td>2.245041</td>\n      <td>1.434129</td>\n      <td>-4.684626</td>\n    </tr>\n    <tr>\n      <th>170</th>\n      <td>3.739288</td>\n      <td>9.491570</td>\n      <td>4.231009</td>\n    </tr>\n    <tr>\n      <th>171</th>\n      <td>2.709507</td>\n      <td>2.239292</td>\n      <td>-1.346363</td>\n    </tr>\n    <tr>\n      <th>172</th>\n      <td>1.603189</td>\n      <td>4.844468</td>\n      <td>3.206462</td>\n    </tr>\n  </tbody>\n</table>\n<p>173 rows × 3 columns</p>\n</div>"
     },
     "execution_count": 305,
     "metadata": {},
     "output_type": "execute_result"
    }
   ],
   "source": [
    "X_principal_component = pd.DataFrame(data=principal_components, columns=fitur)\n",
    "X_principal_component"
   ],
   "metadata": {
    "collapsed": false,
    "ExecuteTime": {
     "end_time": "2024-03-04T16:47:15.416237Z",
     "start_time": "2024-03-04T16:47:15.386589Z"
    }
   },
   "id": "164db4be6fcfa33a",
   "execution_count": 305
  },
  {
   "cell_type": "markdown",
   "source": [
    "### Model Random Forest"
   ],
   "metadata": {
    "collapsed": false
   },
   "id": "a196dd4b455ab112"
  },
  {
   "cell_type": "code",
   "outputs": [],
   "source": [
    "from sklearn.ensemble import RandomForestClassifier\n",
    "from sklearn.model_selection import train_test_split"
   ],
   "metadata": {
    "collapsed": false,
    "ExecuteTime": {
     "end_time": "2024-03-04T16:47:17.981021Z",
     "start_time": "2024-03-04T16:47:17.966289Z"
    }
   },
   "id": "c25b7ab761887195",
   "execution_count": 306
  },
  {
   "cell_type": "code",
   "outputs": [],
   "source": [
    "X_train, X_test, y_train, y_test = train_test_split(X_principal_component, y, test_size=0.2, random_state=42)"
   ],
   "metadata": {
    "collapsed": false,
    "ExecuteTime": {
     "end_time": "2024-03-04T16:47:18.543300Z",
     "start_time": "2024-03-04T16:47:18.537753Z"
    }
   },
   "id": "71a0b0481b4c9871",
   "execution_count": 307
  },
  {
   "cell_type": "code",
   "outputs": [
    {
     "data": {
      "text/plain": "RandomForestClassifier(random_state=42)",
      "text/html": "<style>#sk-container-id-9 {\n  /* Definition of color scheme common for light and dark mode */\n  --sklearn-color-text: black;\n  --sklearn-color-line: gray;\n  /* Definition of color scheme for unfitted estimators */\n  --sklearn-color-unfitted-level-0: #fff5e6;\n  --sklearn-color-unfitted-level-1: #f6e4d2;\n  --sklearn-color-unfitted-level-2: #ffe0b3;\n  --sklearn-color-unfitted-level-3: chocolate;\n  /* Definition of color scheme for fitted estimators */\n  --sklearn-color-fitted-level-0: #f0f8ff;\n  --sklearn-color-fitted-level-1: #d4ebff;\n  --sklearn-color-fitted-level-2: #b3dbfd;\n  --sklearn-color-fitted-level-3: cornflowerblue;\n\n  /* Specific color for light theme */\n  --sklearn-color-text-on-default-background: var(--sg-text-color, var(--theme-code-foreground, var(--jp-content-font-color1, black)));\n  --sklearn-color-background: var(--sg-background-color, var(--theme-background, var(--jp-layout-color0, white)));\n  --sklearn-color-border-box: var(--sg-text-color, var(--theme-code-foreground, var(--jp-content-font-color1, black)));\n  --sklearn-color-icon: #696969;\n\n  @media (prefers-color-scheme: dark) {\n    /* Redefinition of color scheme for dark theme */\n    --sklearn-color-text-on-default-background: var(--sg-text-color, var(--theme-code-foreground, var(--jp-content-font-color1, white)));\n    --sklearn-color-background: var(--sg-background-color, var(--theme-background, var(--jp-layout-color0, #111)));\n    --sklearn-color-border-box: var(--sg-text-color, var(--theme-code-foreground, var(--jp-content-font-color1, white)));\n    --sklearn-color-icon: #878787;\n  }\n}\n\n#sk-container-id-9 {\n  color: var(--sklearn-color-text);\n}\n\n#sk-container-id-9 pre {\n  padding: 0;\n}\n\n#sk-container-id-9 input.sk-hidden--visually {\n  border: 0;\n  clip: rect(1px 1px 1px 1px);\n  clip: rect(1px, 1px, 1px, 1px);\n  height: 1px;\n  margin: -1px;\n  overflow: hidden;\n  padding: 0;\n  position: absolute;\n  width: 1px;\n}\n\n#sk-container-id-9 div.sk-dashed-wrapped {\n  border: 1px dashed var(--sklearn-color-line);\n  margin: 0 0.4em 0.5em 0.4em;\n  box-sizing: border-box;\n  padding-bottom: 0.4em;\n  background-color: var(--sklearn-color-background);\n}\n\n#sk-container-id-9 div.sk-container {\n  /* jupyter's `normalize.less` sets `[hidden] { display: none; }`\n     but bootstrap.min.css set `[hidden] { display: none !important; }`\n     so we also need the `!important` here to be able to override the\n     default hidden behavior on the sphinx rendered scikit-learn.org.\n     See: https://github.com/scikit-learn/scikit-learn/issues/21755 */\n  display: inline-block !important;\n  position: relative;\n}\n\n#sk-container-id-9 div.sk-text-repr-fallback {\n  display: none;\n}\n\ndiv.sk-parallel-item,\ndiv.sk-serial,\ndiv.sk-item {\n  /* draw centered vertical line to link estimators */\n  background-image: linear-gradient(var(--sklearn-color-text-on-default-background), var(--sklearn-color-text-on-default-background));\n  background-size: 2px 100%;\n  background-repeat: no-repeat;\n  background-position: center center;\n}\n\n/* Parallel-specific style estimator block */\n\n#sk-container-id-9 div.sk-parallel-item::after {\n  content: \"\";\n  width: 100%;\n  border-bottom: 2px solid var(--sklearn-color-text-on-default-background);\n  flex-grow: 1;\n}\n\n#sk-container-id-9 div.sk-parallel {\n  display: flex;\n  align-items: stretch;\n  justify-content: center;\n  background-color: var(--sklearn-color-background);\n  position: relative;\n}\n\n#sk-container-id-9 div.sk-parallel-item {\n  display: flex;\n  flex-direction: column;\n}\n\n#sk-container-id-9 div.sk-parallel-item:first-child::after {\n  align-self: flex-end;\n  width: 50%;\n}\n\n#sk-container-id-9 div.sk-parallel-item:last-child::after {\n  align-self: flex-start;\n  width: 50%;\n}\n\n#sk-container-id-9 div.sk-parallel-item:only-child::after {\n  width: 0;\n}\n\n/* Serial-specific style estimator block */\n\n#sk-container-id-9 div.sk-serial {\n  display: flex;\n  flex-direction: column;\n  align-items: center;\n  background-color: var(--sklearn-color-background);\n  padding-right: 1em;\n  padding-left: 1em;\n}\n\n\n/* Toggleable style: style used for estimator/Pipeline/ColumnTransformer box that is\nclickable and can be expanded/collapsed.\n- Pipeline and ColumnTransformer use this feature and define the default style\n- Estimators will overwrite some part of the style using the `sk-estimator` class\n*/\n\n/* Pipeline and ColumnTransformer style (default) */\n\n#sk-container-id-9 div.sk-toggleable {\n  /* Default theme specific background. It is overwritten whether we have a\n  specific estimator or a Pipeline/ColumnTransformer */\n  background-color: var(--sklearn-color-background);\n}\n\n/* Toggleable label */\n#sk-container-id-9 label.sk-toggleable__label {\n  cursor: pointer;\n  display: block;\n  width: 100%;\n  margin-bottom: 0;\n  padding: 0.5em;\n  box-sizing: border-box;\n  text-align: center;\n}\n\n#sk-container-id-9 label.sk-toggleable__label-arrow:before {\n  /* Arrow on the left of the label */\n  content: \"▸\";\n  float: left;\n  margin-right: 0.25em;\n  color: var(--sklearn-color-icon);\n}\n\n#sk-container-id-9 label.sk-toggleable__label-arrow:hover:before {\n  color: var(--sklearn-color-text);\n}\n\n/* Toggleable content - dropdown */\n\n#sk-container-id-9 div.sk-toggleable__content {\n  max-height: 0;\n  max-width: 0;\n  overflow: hidden;\n  text-align: left;\n  /* unfitted */\n  background-color: var(--sklearn-color-unfitted-level-0);\n}\n\n#sk-container-id-9 div.sk-toggleable__content.fitted {\n  /* fitted */\n  background-color: var(--sklearn-color-fitted-level-0);\n}\n\n#sk-container-id-9 div.sk-toggleable__content pre {\n  margin: 0.2em;\n  border-radius: 0.25em;\n  color: var(--sklearn-color-text);\n  /* unfitted */\n  background-color: var(--sklearn-color-unfitted-level-0);\n}\n\n#sk-container-id-9 div.sk-toggleable__content.fitted pre {\n  /* unfitted */\n  background-color: var(--sklearn-color-fitted-level-0);\n}\n\n#sk-container-id-9 input.sk-toggleable__control:checked~div.sk-toggleable__content {\n  /* Expand drop-down */\n  max-height: 200px;\n  max-width: 100%;\n  overflow: auto;\n}\n\n#sk-container-id-9 input.sk-toggleable__control:checked~label.sk-toggleable__label-arrow:before {\n  content: \"▾\";\n}\n\n/* Pipeline/ColumnTransformer-specific style */\n\n#sk-container-id-9 div.sk-label input.sk-toggleable__control:checked~label.sk-toggleable__label {\n  color: var(--sklearn-color-text);\n  background-color: var(--sklearn-color-unfitted-level-2);\n}\n\n#sk-container-id-9 div.sk-label.fitted input.sk-toggleable__control:checked~label.sk-toggleable__label {\n  background-color: var(--sklearn-color-fitted-level-2);\n}\n\n/* Estimator-specific style */\n\n/* Colorize estimator box */\n#sk-container-id-9 div.sk-estimator input.sk-toggleable__control:checked~label.sk-toggleable__label {\n  /* unfitted */\n  background-color: var(--sklearn-color-unfitted-level-2);\n}\n\n#sk-container-id-9 div.sk-estimator.fitted input.sk-toggleable__control:checked~label.sk-toggleable__label {\n  /* fitted */\n  background-color: var(--sklearn-color-fitted-level-2);\n}\n\n#sk-container-id-9 div.sk-label label.sk-toggleable__label,\n#sk-container-id-9 div.sk-label label {\n  /* The background is the default theme color */\n  color: var(--sklearn-color-text-on-default-background);\n}\n\n/* On hover, darken the color of the background */\n#sk-container-id-9 div.sk-label:hover label.sk-toggleable__label {\n  color: var(--sklearn-color-text);\n  background-color: var(--sklearn-color-unfitted-level-2);\n}\n\n/* Label box, darken color on hover, fitted */\n#sk-container-id-9 div.sk-label.fitted:hover label.sk-toggleable__label.fitted {\n  color: var(--sklearn-color-text);\n  background-color: var(--sklearn-color-fitted-level-2);\n}\n\n/* Estimator label */\n\n#sk-container-id-9 div.sk-label label {\n  font-family: monospace;\n  font-weight: bold;\n  display: inline-block;\n  line-height: 1.2em;\n}\n\n#sk-container-id-9 div.sk-label-container {\n  text-align: center;\n}\n\n/* Estimator-specific */\n#sk-container-id-9 div.sk-estimator {\n  font-family: monospace;\n  border: 1px dotted var(--sklearn-color-border-box);\n  border-radius: 0.25em;\n  box-sizing: border-box;\n  margin-bottom: 0.5em;\n  /* unfitted */\n  background-color: var(--sklearn-color-unfitted-level-0);\n}\n\n#sk-container-id-9 div.sk-estimator.fitted {\n  /* fitted */\n  background-color: var(--sklearn-color-fitted-level-0);\n}\n\n/* on hover */\n#sk-container-id-9 div.sk-estimator:hover {\n  /* unfitted */\n  background-color: var(--sklearn-color-unfitted-level-2);\n}\n\n#sk-container-id-9 div.sk-estimator.fitted:hover {\n  /* fitted */\n  background-color: var(--sklearn-color-fitted-level-2);\n}\n\n/* Specification for estimator info (e.g. \"i\" and \"?\") */\n\n/* Common style for \"i\" and \"?\" */\n\n.sk-estimator-doc-link,\na:link.sk-estimator-doc-link,\na:visited.sk-estimator-doc-link {\n  float: right;\n  font-size: smaller;\n  line-height: 1em;\n  font-family: monospace;\n  background-color: var(--sklearn-color-background);\n  border-radius: 1em;\n  height: 1em;\n  width: 1em;\n  text-decoration: none !important;\n  margin-left: 1ex;\n  /* unfitted */\n  border: var(--sklearn-color-unfitted-level-1) 1pt solid;\n  color: var(--sklearn-color-unfitted-level-1);\n}\n\n.sk-estimator-doc-link.fitted,\na:link.sk-estimator-doc-link.fitted,\na:visited.sk-estimator-doc-link.fitted {\n  /* fitted */\n  border: var(--sklearn-color-fitted-level-1) 1pt solid;\n  color: var(--sklearn-color-fitted-level-1);\n}\n\n/* On hover */\ndiv.sk-estimator:hover .sk-estimator-doc-link:hover,\n.sk-estimator-doc-link:hover,\ndiv.sk-label-container:hover .sk-estimator-doc-link:hover,\n.sk-estimator-doc-link:hover {\n  /* unfitted */\n  background-color: var(--sklearn-color-unfitted-level-3);\n  color: var(--sklearn-color-background);\n  text-decoration: none;\n}\n\ndiv.sk-estimator.fitted:hover .sk-estimator-doc-link.fitted:hover,\n.sk-estimator-doc-link.fitted:hover,\ndiv.sk-label-container:hover .sk-estimator-doc-link.fitted:hover,\n.sk-estimator-doc-link.fitted:hover {\n  /* fitted */\n  background-color: var(--sklearn-color-fitted-level-3);\n  color: var(--sklearn-color-background);\n  text-decoration: none;\n}\n\n/* Span, style for the box shown on hovering the info icon */\n.sk-estimator-doc-link span {\n  display: none;\n  z-index: 9999;\n  position: relative;\n  font-weight: normal;\n  right: .2ex;\n  padding: .5ex;\n  margin: .5ex;\n  width: min-content;\n  min-width: 20ex;\n  max-width: 50ex;\n  color: var(--sklearn-color-text);\n  box-shadow: 2pt 2pt 4pt #999;\n  /* unfitted */\n  background: var(--sklearn-color-unfitted-level-0);\n  border: .5pt solid var(--sklearn-color-unfitted-level-3);\n}\n\n.sk-estimator-doc-link.fitted span {\n  /* fitted */\n  background: var(--sklearn-color-fitted-level-0);\n  border: var(--sklearn-color-fitted-level-3);\n}\n\n.sk-estimator-doc-link:hover span {\n  display: block;\n}\n\n/* \"?\"-specific style due to the `<a>` HTML tag */\n\n#sk-container-id-9 a.estimator_doc_link {\n  float: right;\n  font-size: 1rem;\n  line-height: 1em;\n  font-family: monospace;\n  background-color: var(--sklearn-color-background);\n  border-radius: 1rem;\n  height: 1rem;\n  width: 1rem;\n  text-decoration: none;\n  /* unfitted */\n  color: var(--sklearn-color-unfitted-level-1);\n  border: var(--sklearn-color-unfitted-level-1) 1pt solid;\n}\n\n#sk-container-id-9 a.estimator_doc_link.fitted {\n  /* fitted */\n  border: var(--sklearn-color-fitted-level-1) 1pt solid;\n  color: var(--sklearn-color-fitted-level-1);\n}\n\n/* On hover */\n#sk-container-id-9 a.estimator_doc_link:hover {\n  /* unfitted */\n  background-color: var(--sklearn-color-unfitted-level-3);\n  color: var(--sklearn-color-background);\n  text-decoration: none;\n}\n\n#sk-container-id-9 a.estimator_doc_link.fitted:hover {\n  /* fitted */\n  background-color: var(--sklearn-color-fitted-level-3);\n}\n</style><div id=\"sk-container-id-9\" class=\"sk-top-container\"><div class=\"sk-text-repr-fallback\"><pre>RandomForestClassifier(random_state=42)</pre><b>In a Jupyter environment, please rerun this cell to show the HTML representation or trust the notebook. <br />On GitHub, the HTML representation is unable to render, please try loading this page with nbviewer.org.</b></div><div class=\"sk-container\" hidden><div class=\"sk-item\"><div class=\"sk-estimator fitted sk-toggleable\"><input class=\"sk-toggleable__control sk-hidden--visually\" id=\"sk-estimator-id-9\" type=\"checkbox\" checked><label for=\"sk-estimator-id-9\" class=\"sk-toggleable__label fitted sk-toggleable__label-arrow fitted\">&nbsp;&nbsp;RandomForestClassifier<a class=\"sk-estimator-doc-link fitted\" rel=\"noreferrer\" target=\"_blank\" href=\"https://scikit-learn.org/1.4/modules/generated/sklearn.ensemble.RandomForestClassifier.html\">?<span>Documentation for RandomForestClassifier</span></a><span class=\"sk-estimator-doc-link fitted\">i<span>Fitted</span></span></label><div class=\"sk-toggleable__content fitted\"><pre>RandomForestClassifier(random_state=42)</pre></div> </div></div></div></div>"
     },
     "execution_count": 308,
     "metadata": {},
     "output_type": "execute_result"
    }
   ],
   "source": [
    "rf_model = RandomForestClassifier(n_estimators=100, random_state=42)\n",
    "rf_model.fit(X_train, y_train)\n",
    "\n",
    "rf_model"
   ],
   "metadata": {
    "collapsed": false,
    "ExecuteTime": {
     "end_time": "2024-03-04T16:47:19.387815Z",
     "start_time": "2024-03-04T16:47:19.300062Z"
    }
   },
   "id": "3a03c3d8fe68b22",
   "execution_count": 308
  },
  {
   "cell_type": "code",
   "outputs": [
    {
     "data": {
      "text/plain": "array([0, 1, 0, 1, 0, 0, 1, 1, 0, 0, 0, 0, 0, 1, 1, 1, 0, 1, 1, 0, 0, 1,\n       0, 1, 0, 1, 0, 1, 1, 0, 1, 0, 1, 0, 0])"
     },
     "execution_count": 309,
     "metadata": {},
     "output_type": "execute_result"
    }
   ],
   "source": [
    "pred = rf_model.predict(X_test)\n",
    "pred"
   ],
   "metadata": {
    "collapsed": false,
    "ExecuteTime": {
     "end_time": "2024-03-04T16:47:19.453012Z",
     "start_time": "2024-03-04T16:47:19.445659Z"
    }
   },
   "id": "3b378dbd6a0ea2f2",
   "execution_count": 309
  },
  {
   "cell_type": "code",
   "outputs": [
    {
     "name": "stdout",
     "output_type": "stream",
     "text": [
      "Score dengan jumlah principal component 3\t: 0.9428571428571428\n"
     ]
    }
   ],
   "source": [
    "from sklearn.metrics import accuracy_score\n",
    "\n",
    "score = accuracy_score(y_test, pred)\n",
    "\n",
    "print(f'Score dengan jumlah principal component {len(fitur)}\\t: {score}')"
   ],
   "metadata": {
    "collapsed": false,
    "ExecuteTime": {
     "end_time": "2024-03-04T16:47:19.619452Z",
     "start_time": "2024-03-04T16:47:19.609442Z"
    }
   },
   "id": "a809c9c074b52b",
   "execution_count": 310
  },
  {
   "cell_type": "code",
   "outputs": [
    {
     "data": {
      "text/plain": "0.8677310924369749"
     },
     "execution_count": 311,
     "metadata": {},
     "output_type": "execute_result"
    }
   ],
   "source": [
    "from sklearn.model_selection import cross_val_score\n",
    "\n",
    "scores = cross_val_score(rf_model, X_principal_component, y, cv=5)\n",
    "scores.mean()"
   ],
   "metadata": {
    "collapsed": false,
    "ExecuteTime": {
     "end_time": "2024-03-04T16:47:19.970231Z",
     "start_time": "2024-03-04T16:47:19.735369Z"
    }
   },
   "id": "4c642b2d5be717e2",
   "execution_count": 311
  }
 ],
 "metadata": {
  "kernelspec": {
   "display_name": "Python 3",
   "language": "python",
   "name": "python3"
  },
  "language_info": {
   "codemirror_mode": {
    "name": "ipython",
    "version": 2
   },
   "file_extension": ".py",
   "mimetype": "text/x-python",
   "name": "python",
   "nbconvert_exporter": "python",
   "pygments_lexer": "ipython2",
   "version": "2.7.6"
  }
 },
 "nbformat": 4,
 "nbformat_minor": 5
}
