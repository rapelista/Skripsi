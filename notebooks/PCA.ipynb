{
 "cells": [
  {
   "cell_type": "code",
   "outputs": [],
   "source": [
    "import numpy as np\n",
    "import pandas as pd"
   ],
   "metadata": {
    "collapsed": false,
    "ExecuteTime": {
     "end_time": "2024-03-10T18:58:24.839426Z",
     "start_time": "2024-03-10T18:58:24.834786Z"
    }
   },
   "id": "42bceee4e5573964",
   "execution_count": 140
  },
  {
   "cell_type": "markdown",
   "source": [
    "## Data Preparation"
   ],
   "metadata": {
    "collapsed": false
   },
   "id": "444eea0582462322"
  },
  {
   "cell_type": "code",
   "outputs": [
    {
     "data": {
      "text/plain": "    ax1   ay1   az1   gx1   gy1   gz1   ax2   ay2   az2   gx2   gy2   gz2  \\\n0  2.91  6.17  3.59 -1.67 -0.46  0.92  5.53  8.00 -1.73  0.31  0.16 -0.41   \n1  2.58  8.36  2.91  0.18  0.07 -0.21  5.77  7.74 -1.23 -0.14 -0.04 -0.07   \n2  4.09  6.41  4.38 -1.30 -0.25  0.87  5.13  8.39 -1.98  0.41  0.09 -0.29   \n3  3.58  7.54  3.47  0.51  0.13 -0.46  5.27  8.04 -1.34 -0.23 -0.09  0.00   \n4  4.02  6.64  4.09 -1.16 -0.05  0.92  5.04  8.26 -1.68  0.27  0.12 -0.38   \n\n    ax3   ay3   az3   gx3   gy3   gz3  kelas  \n0 -0.22  9.47 -2.62 -0.06  0.02  0.01      1  \n1 -0.28  9.57 -2.27  0.00  0.12  0.03      1  \n2 -0.09  9.46 -2.35 -0.03  0.03  0.02      1  \n3 -0.18  9.62 -1.83  0.04  0.12 -0.02      1  \n4  0.18  9.50 -1.97 -0.02 -0.06  0.03      1  ",
      "text/html": "<div>\n<style scoped>\n    .dataframe tbody tr th:only-of-type {\n        vertical-align: middle;\n    }\n\n    .dataframe tbody tr th {\n        vertical-align: top;\n    }\n\n    .dataframe thead th {\n        text-align: right;\n    }\n</style>\n<table border=\"1\" class=\"dataframe\">\n  <thead>\n    <tr style=\"text-align: right;\">\n      <th></th>\n      <th>ax1</th>\n      <th>ay1</th>\n      <th>az1</th>\n      <th>gx1</th>\n      <th>gy1</th>\n      <th>gz1</th>\n      <th>ax2</th>\n      <th>ay2</th>\n      <th>az2</th>\n      <th>gx2</th>\n      <th>gy2</th>\n      <th>gz2</th>\n      <th>ax3</th>\n      <th>ay3</th>\n      <th>az3</th>\n      <th>gx3</th>\n      <th>gy3</th>\n      <th>gz3</th>\n      <th>kelas</th>\n    </tr>\n  </thead>\n  <tbody>\n    <tr>\n      <th>0</th>\n      <td>2.91</td>\n      <td>6.17</td>\n      <td>3.59</td>\n      <td>-1.67</td>\n      <td>-0.46</td>\n      <td>0.92</td>\n      <td>5.53</td>\n      <td>8.00</td>\n      <td>-1.73</td>\n      <td>0.31</td>\n      <td>0.16</td>\n      <td>-0.41</td>\n      <td>-0.22</td>\n      <td>9.47</td>\n      <td>-2.62</td>\n      <td>-0.06</td>\n      <td>0.02</td>\n      <td>0.01</td>\n      <td>1</td>\n    </tr>\n    <tr>\n      <th>1</th>\n      <td>2.58</td>\n      <td>8.36</td>\n      <td>2.91</td>\n      <td>0.18</td>\n      <td>0.07</td>\n      <td>-0.21</td>\n      <td>5.77</td>\n      <td>7.74</td>\n      <td>-1.23</td>\n      <td>-0.14</td>\n      <td>-0.04</td>\n      <td>-0.07</td>\n      <td>-0.28</td>\n      <td>9.57</td>\n      <td>-2.27</td>\n      <td>0.00</td>\n      <td>0.12</td>\n      <td>0.03</td>\n      <td>1</td>\n    </tr>\n    <tr>\n      <th>2</th>\n      <td>4.09</td>\n      <td>6.41</td>\n      <td>4.38</td>\n      <td>-1.30</td>\n      <td>-0.25</td>\n      <td>0.87</td>\n      <td>5.13</td>\n      <td>8.39</td>\n      <td>-1.98</td>\n      <td>0.41</td>\n      <td>0.09</td>\n      <td>-0.29</td>\n      <td>-0.09</td>\n      <td>9.46</td>\n      <td>-2.35</td>\n      <td>-0.03</td>\n      <td>0.03</td>\n      <td>0.02</td>\n      <td>1</td>\n    </tr>\n    <tr>\n      <th>3</th>\n      <td>3.58</td>\n      <td>7.54</td>\n      <td>3.47</td>\n      <td>0.51</td>\n      <td>0.13</td>\n      <td>-0.46</td>\n      <td>5.27</td>\n      <td>8.04</td>\n      <td>-1.34</td>\n      <td>-0.23</td>\n      <td>-0.09</td>\n      <td>0.00</td>\n      <td>-0.18</td>\n      <td>9.62</td>\n      <td>-1.83</td>\n      <td>0.04</td>\n      <td>0.12</td>\n      <td>-0.02</td>\n      <td>1</td>\n    </tr>\n    <tr>\n      <th>4</th>\n      <td>4.02</td>\n      <td>6.64</td>\n      <td>4.09</td>\n      <td>-1.16</td>\n      <td>-0.05</td>\n      <td>0.92</td>\n      <td>5.04</td>\n      <td>8.26</td>\n      <td>-1.68</td>\n      <td>0.27</td>\n      <td>0.12</td>\n      <td>-0.38</td>\n      <td>0.18</td>\n      <td>9.50</td>\n      <td>-1.97</td>\n      <td>-0.02</td>\n      <td>-0.06</td>\n      <td>0.03</td>\n      <td>1</td>\n    </tr>\n  </tbody>\n</table>\n</div>"
     },
     "execution_count": 141,
     "metadata": {},
     "output_type": "execute_result"
    }
   ],
   "source": [
    "data_gerakan_benar = pd.read_csv(\"../data/gerakan-benar.csv\")\n",
    "data_gerakan_benar[\"kelas\"] = 1\n",
    "data_gerakan_benar.head()"
   ],
   "metadata": {
    "collapsed": false,
    "ExecuteTime": {
     "end_time": "2024-03-10T18:58:24.880951Z",
     "start_time": "2024-03-10T18:58:24.863826Z"
    }
   },
   "id": "cf133c3a1e935814",
   "execution_count": 141
  },
  {
   "cell_type": "code",
   "outputs": [
    {
     "data": {
      "text/plain": "    ax1    ay1   az1   gx1   gy1   gz1   ax2   ay2   az2   gx2   gy2   gz2  \\\n0  3.30  -6.13  5.30 -0.14 -0.10  0.07 -0.65  5.40  1.94  0.01  0.16  0.00   \n1  5.87  -2.27  6.23 -2.15  0.25  1.27  0.07  7.81  4.61  0.66  0.90 -0.36   \n2  3.25   0.26  4.64  0.41 -0.50 -0.15  0.22  7.40  5.04 -0.30 -0.11 -0.08   \n3  4.26  -5.44  6.57  2.04 -0.11 -0.96 -1.51  7.90  5.08 -0.18 -0.31  0.40   \n4  3.66 -10.31  4.25  0.03 -0.27 -0.14 -1.82  7.20  4.15  0.12 -0.06  0.46   \n\n    ax3   ay3   az3   gx3   gy3   gz3  kelas  \n0 -0.02  9.65 -1.23  0.03  0.08  0.03      0  \n1 -0.73  9.64 -1.35  0.12  0.16  0.09      0  \n2  0.23  9.55 -1.55  0.14 -0.05  0.03      0  \n3  0.03  9.57 -2.13 -0.14 -0.14  0.08      0  \n4  0.46  9.48 -2.38  0.09  0.09 -0.08      0  ",
      "text/html": "<div>\n<style scoped>\n    .dataframe tbody tr th:only-of-type {\n        vertical-align: middle;\n    }\n\n    .dataframe tbody tr th {\n        vertical-align: top;\n    }\n\n    .dataframe thead th {\n        text-align: right;\n    }\n</style>\n<table border=\"1\" class=\"dataframe\">\n  <thead>\n    <tr style=\"text-align: right;\">\n      <th></th>\n      <th>ax1</th>\n      <th>ay1</th>\n      <th>az1</th>\n      <th>gx1</th>\n      <th>gy1</th>\n      <th>gz1</th>\n      <th>ax2</th>\n      <th>ay2</th>\n      <th>az2</th>\n      <th>gx2</th>\n      <th>gy2</th>\n      <th>gz2</th>\n      <th>ax3</th>\n      <th>ay3</th>\n      <th>az3</th>\n      <th>gx3</th>\n      <th>gy3</th>\n      <th>gz3</th>\n      <th>kelas</th>\n    </tr>\n  </thead>\n  <tbody>\n    <tr>\n      <th>0</th>\n      <td>3.30</td>\n      <td>-6.13</td>\n      <td>5.30</td>\n      <td>-0.14</td>\n      <td>-0.10</td>\n      <td>0.07</td>\n      <td>-0.65</td>\n      <td>5.40</td>\n      <td>1.94</td>\n      <td>0.01</td>\n      <td>0.16</td>\n      <td>0.00</td>\n      <td>-0.02</td>\n      <td>9.65</td>\n      <td>-1.23</td>\n      <td>0.03</td>\n      <td>0.08</td>\n      <td>0.03</td>\n      <td>0</td>\n    </tr>\n    <tr>\n      <th>1</th>\n      <td>5.87</td>\n      <td>-2.27</td>\n      <td>6.23</td>\n      <td>-2.15</td>\n      <td>0.25</td>\n      <td>1.27</td>\n      <td>0.07</td>\n      <td>7.81</td>\n      <td>4.61</td>\n      <td>0.66</td>\n      <td>0.90</td>\n      <td>-0.36</td>\n      <td>-0.73</td>\n      <td>9.64</td>\n      <td>-1.35</td>\n      <td>0.12</td>\n      <td>0.16</td>\n      <td>0.09</td>\n      <td>0</td>\n    </tr>\n    <tr>\n      <th>2</th>\n      <td>3.25</td>\n      <td>0.26</td>\n      <td>4.64</td>\n      <td>0.41</td>\n      <td>-0.50</td>\n      <td>-0.15</td>\n      <td>0.22</td>\n      <td>7.40</td>\n      <td>5.04</td>\n      <td>-0.30</td>\n      <td>-0.11</td>\n      <td>-0.08</td>\n      <td>0.23</td>\n      <td>9.55</td>\n      <td>-1.55</td>\n      <td>0.14</td>\n      <td>-0.05</td>\n      <td>0.03</td>\n      <td>0</td>\n    </tr>\n    <tr>\n      <th>3</th>\n      <td>4.26</td>\n      <td>-5.44</td>\n      <td>6.57</td>\n      <td>2.04</td>\n      <td>-0.11</td>\n      <td>-0.96</td>\n      <td>-1.51</td>\n      <td>7.90</td>\n      <td>5.08</td>\n      <td>-0.18</td>\n      <td>-0.31</td>\n      <td>0.40</td>\n      <td>0.03</td>\n      <td>9.57</td>\n      <td>-2.13</td>\n      <td>-0.14</td>\n      <td>-0.14</td>\n      <td>0.08</td>\n      <td>0</td>\n    </tr>\n    <tr>\n      <th>4</th>\n      <td>3.66</td>\n      <td>-10.31</td>\n      <td>4.25</td>\n      <td>0.03</td>\n      <td>-0.27</td>\n      <td>-0.14</td>\n      <td>-1.82</td>\n      <td>7.20</td>\n      <td>4.15</td>\n      <td>0.12</td>\n      <td>-0.06</td>\n      <td>0.46</td>\n      <td>0.46</td>\n      <td>9.48</td>\n      <td>-2.38</td>\n      <td>0.09</td>\n      <td>0.09</td>\n      <td>-0.08</td>\n      <td>0</td>\n    </tr>\n  </tbody>\n</table>\n</div>"
     },
     "execution_count": 142,
     "metadata": {},
     "output_type": "execute_result"
    }
   ],
   "source": [
    "data_gerakan_salah = pd.read_csv(\"../data/gerakan-salah.csv\")\n",
    "data_gerakan_salah[\"kelas\"] = 0\n",
    "data_gerakan_salah.head()"
   ],
   "metadata": {
    "collapsed": false,
    "ExecuteTime": {
     "end_time": "2024-03-10T18:58:24.893677Z",
     "start_time": "2024-03-10T18:58:24.884115Z"
    }
   },
   "id": "c49f2ae047ba083a",
   "execution_count": 142
  },
  {
   "cell_type": "code",
   "outputs": [
    {
     "data": {
      "text/plain": "    ax1   ay1   az1   gx1   gy1   gz1   ax2   ay2   az2   gx2   gy2   gz2  \\\n0  2.91  6.17  3.59 -1.67 -0.46  0.92  5.53  8.00 -1.73  0.31  0.16 -0.41   \n1  2.58  8.36  2.91  0.18  0.07 -0.21  5.77  7.74 -1.23 -0.14 -0.04 -0.07   \n2  4.09  6.41  4.38 -1.30 -0.25  0.87  5.13  8.39 -1.98  0.41  0.09 -0.29   \n3  3.58  7.54  3.47  0.51  0.13 -0.46  5.27  8.04 -1.34 -0.23 -0.09  0.00   \n4  4.02  6.64  4.09 -1.16 -0.05  0.92  5.04  8.26 -1.68  0.27  0.12 -0.38   \n\n    ax3   ay3   az3   gx3   gy3   gz3  kelas  \n0 -0.22  9.47 -2.62 -0.06  0.02  0.01      1  \n1 -0.28  9.57 -2.27  0.00  0.12  0.03      1  \n2 -0.09  9.46 -2.35 -0.03  0.03  0.02      1  \n3 -0.18  9.62 -1.83  0.04  0.12 -0.02      1  \n4  0.18  9.50 -1.97 -0.02 -0.06  0.03      1  ",
      "text/html": "<div>\n<style scoped>\n    .dataframe tbody tr th:only-of-type {\n        vertical-align: middle;\n    }\n\n    .dataframe tbody tr th {\n        vertical-align: top;\n    }\n\n    .dataframe thead th {\n        text-align: right;\n    }\n</style>\n<table border=\"1\" class=\"dataframe\">\n  <thead>\n    <tr style=\"text-align: right;\">\n      <th></th>\n      <th>ax1</th>\n      <th>ay1</th>\n      <th>az1</th>\n      <th>gx1</th>\n      <th>gy1</th>\n      <th>gz1</th>\n      <th>ax2</th>\n      <th>ay2</th>\n      <th>az2</th>\n      <th>gx2</th>\n      <th>gy2</th>\n      <th>gz2</th>\n      <th>ax3</th>\n      <th>ay3</th>\n      <th>az3</th>\n      <th>gx3</th>\n      <th>gy3</th>\n      <th>gz3</th>\n      <th>kelas</th>\n    </tr>\n  </thead>\n  <tbody>\n    <tr>\n      <th>0</th>\n      <td>2.91</td>\n      <td>6.17</td>\n      <td>3.59</td>\n      <td>-1.67</td>\n      <td>-0.46</td>\n      <td>0.92</td>\n      <td>5.53</td>\n      <td>8.00</td>\n      <td>-1.73</td>\n      <td>0.31</td>\n      <td>0.16</td>\n      <td>-0.41</td>\n      <td>-0.22</td>\n      <td>9.47</td>\n      <td>-2.62</td>\n      <td>-0.06</td>\n      <td>0.02</td>\n      <td>0.01</td>\n      <td>1</td>\n    </tr>\n    <tr>\n      <th>1</th>\n      <td>2.58</td>\n      <td>8.36</td>\n      <td>2.91</td>\n      <td>0.18</td>\n      <td>0.07</td>\n      <td>-0.21</td>\n      <td>5.77</td>\n      <td>7.74</td>\n      <td>-1.23</td>\n      <td>-0.14</td>\n      <td>-0.04</td>\n      <td>-0.07</td>\n      <td>-0.28</td>\n      <td>9.57</td>\n      <td>-2.27</td>\n      <td>0.00</td>\n      <td>0.12</td>\n      <td>0.03</td>\n      <td>1</td>\n    </tr>\n    <tr>\n      <th>2</th>\n      <td>4.09</td>\n      <td>6.41</td>\n      <td>4.38</td>\n      <td>-1.30</td>\n      <td>-0.25</td>\n      <td>0.87</td>\n      <td>5.13</td>\n      <td>8.39</td>\n      <td>-1.98</td>\n      <td>0.41</td>\n      <td>0.09</td>\n      <td>-0.29</td>\n      <td>-0.09</td>\n      <td>9.46</td>\n      <td>-2.35</td>\n      <td>-0.03</td>\n      <td>0.03</td>\n      <td>0.02</td>\n      <td>1</td>\n    </tr>\n    <tr>\n      <th>3</th>\n      <td>3.58</td>\n      <td>7.54</td>\n      <td>3.47</td>\n      <td>0.51</td>\n      <td>0.13</td>\n      <td>-0.46</td>\n      <td>5.27</td>\n      <td>8.04</td>\n      <td>-1.34</td>\n      <td>-0.23</td>\n      <td>-0.09</td>\n      <td>0.00</td>\n      <td>-0.18</td>\n      <td>9.62</td>\n      <td>-1.83</td>\n      <td>0.04</td>\n      <td>0.12</td>\n      <td>-0.02</td>\n      <td>1</td>\n    </tr>\n    <tr>\n      <th>4</th>\n      <td>4.02</td>\n      <td>6.64</td>\n      <td>4.09</td>\n      <td>-1.16</td>\n      <td>-0.05</td>\n      <td>0.92</td>\n      <td>5.04</td>\n      <td>8.26</td>\n      <td>-1.68</td>\n      <td>0.27</td>\n      <td>0.12</td>\n      <td>-0.38</td>\n      <td>0.18</td>\n      <td>9.50</td>\n      <td>-1.97</td>\n      <td>-0.02</td>\n      <td>-0.06</td>\n      <td>0.03</td>\n      <td>1</td>\n    </tr>\n  </tbody>\n</table>\n</div>"
     },
     "execution_count": 143,
     "metadata": {},
     "output_type": "execute_result"
    }
   ],
   "source": [
    "data = pd.concat([data_gerakan_benar, data_gerakan_salah], ignore_index=True)\n",
    "data.head()"
   ],
   "metadata": {
    "collapsed": false,
    "ExecuteTime": {
     "end_time": "2024-03-10T18:58:24.904793Z",
     "start_time": "2024-03-10T18:58:24.894795Z"
    }
   },
   "id": "b3aa2c0c35d74d50",
   "execution_count": 143
  },
  {
   "cell_type": "code",
   "outputs": [],
   "source": [
    "X = data.iloc[:, :-1]\n",
    "y = data.iloc[:, -1]"
   ],
   "metadata": {
    "collapsed": false,
    "ExecuteTime": {
     "end_time": "2024-03-10T18:58:24.909788Z",
     "start_time": "2024-03-10T18:58:24.907147Z"
    }
   },
   "id": "6dfc491072e3956d",
   "execution_count": 144
  },
  {
   "cell_type": "code",
   "outputs": [],
   "source": [
    "from sklearn.model_selection import train_test_split\n",
    "\n",
    "X_train, X_test, y_train, y_test = train_test_split(X, y, test_size=0.2, random_state=42)"
   ],
   "metadata": {
    "collapsed": false,
    "ExecuteTime": {
     "end_time": "2024-03-10T18:58:24.916756Z",
     "start_time": "2024-03-10T18:58:24.910497Z"
    }
   },
   "id": "1db3ff9bd68aff48",
   "execution_count": 145
  },
  {
   "cell_type": "markdown",
   "source": [
    "## Preprocessing"
   ],
   "metadata": {
    "collapsed": false
   },
   "id": "a4bb30836a3145b2"
  },
  {
   "cell_type": "markdown",
   "source": [
    "### Implement PCA"
   ],
   "metadata": {
    "collapsed": false
   },
   "id": "92e36f1a98bf2ade"
  },
  {
   "cell_type": "code",
   "outputs": [],
   "source": [
    "from modules.pca.MyPCA import MyPCA "
   ],
   "metadata": {
    "collapsed": false,
    "ExecuteTime": {
     "end_time": "2024-03-10T18:58:24.919679Z",
     "start_time": "2024-03-10T18:58:24.917443Z"
    }
   },
   "id": "fa0dc87a0e73682",
   "execution_count": 146
  },
  {
   "cell_type": "code",
   "outputs": [],
   "source": [
    "my_pca = MyPCA(n_components=3)"
   ],
   "metadata": {
    "collapsed": false,
    "ExecuteTime": {
     "end_time": "2024-03-10T18:58:24.924851Z",
     "start_time": "2024-03-10T18:58:24.921366Z"
    }
   },
   "id": "ed3189d8e7a0540c",
   "execution_count": 147
  },
  {
   "cell_type": "code",
   "outputs": [
    {
     "data": {
      "text/plain": "             0          1         2\n154   4.770542  -8.571080 -7.802937\n136   9.135974  -7.033519 -9.675613\n147   8.857905  -6.582485 -9.773927\n51   -5.956812  -7.918031 -3.159351\n126  -5.667413  -5.190947 -6.846729\n..         ...        ...       ...\n71   -5.944045 -11.577226 -3.435093\n106   3.888735  -8.731489 -3.401343\n14   -4.048942 -11.781622 -1.664945\n92    6.353937  -9.464154 -2.767229\n102  15.528195  -4.340566  6.889231\n\n[138 rows x 3 columns]",
      "text/html": "<div>\n<style scoped>\n    .dataframe tbody tr th:only-of-type {\n        vertical-align: middle;\n    }\n\n    .dataframe tbody tr th {\n        vertical-align: top;\n    }\n\n    .dataframe thead th {\n        text-align: right;\n    }\n</style>\n<table border=\"1\" class=\"dataframe\">\n  <thead>\n    <tr style=\"text-align: right;\">\n      <th></th>\n      <th>0</th>\n      <th>1</th>\n      <th>2</th>\n    </tr>\n  </thead>\n  <tbody>\n    <tr>\n      <th>154</th>\n      <td>4.770542</td>\n      <td>-8.571080</td>\n      <td>-7.802937</td>\n    </tr>\n    <tr>\n      <th>136</th>\n      <td>9.135974</td>\n      <td>-7.033519</td>\n      <td>-9.675613</td>\n    </tr>\n    <tr>\n      <th>147</th>\n      <td>8.857905</td>\n      <td>-6.582485</td>\n      <td>-9.773927</td>\n    </tr>\n    <tr>\n      <th>51</th>\n      <td>-5.956812</td>\n      <td>-7.918031</td>\n      <td>-3.159351</td>\n    </tr>\n    <tr>\n      <th>126</th>\n      <td>-5.667413</td>\n      <td>-5.190947</td>\n      <td>-6.846729</td>\n    </tr>\n    <tr>\n      <th>...</th>\n      <td>...</td>\n      <td>...</td>\n      <td>...</td>\n    </tr>\n    <tr>\n      <th>71</th>\n      <td>-5.944045</td>\n      <td>-11.577226</td>\n      <td>-3.435093</td>\n    </tr>\n    <tr>\n      <th>106</th>\n      <td>3.888735</td>\n      <td>-8.731489</td>\n      <td>-3.401343</td>\n    </tr>\n    <tr>\n      <th>14</th>\n      <td>-4.048942</td>\n      <td>-11.781622</td>\n      <td>-1.664945</td>\n    </tr>\n    <tr>\n      <th>92</th>\n      <td>6.353937</td>\n      <td>-9.464154</td>\n      <td>-2.767229</td>\n    </tr>\n    <tr>\n      <th>102</th>\n      <td>15.528195</td>\n      <td>-4.340566</td>\n      <td>6.889231</td>\n    </tr>\n  </tbody>\n</table>\n<p>138 rows × 3 columns</p>\n</div>"
     },
     "execution_count": 148,
     "metadata": {},
     "output_type": "execute_result"
    }
   ],
   "source": [
    "X_train_pca = my_pca.fit_transform(X_train)\n",
    "X_train_pca"
   ],
   "metadata": {
    "collapsed": false,
    "ExecuteTime": {
     "end_time": "2024-03-10T18:58:24.961974Z",
     "start_time": "2024-03-10T18:58:24.956582Z"
    }
   },
   "id": "d5989280f51601b6",
   "execution_count": 148
  },
  {
   "cell_type": "code",
   "outputs": [
    {
     "data": {
      "text/plain": "             0          1          2\n162  10.654040  -6.226513 -10.126088\n42   -4.091997  -8.505171  -4.977809\n90    4.186897  -8.043284  -2.821407\n60   -4.063294 -10.218198  -4.435619\n114 -11.081257   5.985047  -2.827483\n137  -4.000521  -9.466231  -7.793036\n41   -4.721620  -7.932908  -5.138642\n15   -2.423595 -10.980573  -2.757944\n113  -8.355043   1.607558  -4.175419\n108   1.431754 -10.097854  -3.548594\n124  -5.887156  -4.930103  -6.721958\n82    9.881183  -4.890959  -5.009286\n78   10.058505  -5.782033  -2.037945\n38   -5.813024  -8.641652  -3.979401\n31   -2.535520 -10.724659  -2.948620\n9    -4.682403 -11.397887  -2.103803\n111  14.617864  -0.454262   4.569814\n56   -6.782423  -7.888656  -3.082593\n24   -3.672154 -11.781981  -2.734300\n153   3.355446  -8.837876  -8.148809\n93   11.608097  -1.836748   5.234746\n45   -6.565735  -8.735565  -4.273526\n146  -3.598079  -9.891096  -8.390486\n29   -3.730926 -10.641864  -2.379062\n55   -3.719192  -8.125686  -3.513617\n65   -5.644650 -11.444768  -3.054419\n143   9.125423  -5.798023 -10.565587\n19   -4.157630 -11.564577  -2.230668\n16   -3.334260 -12.319924  -3.173884\n141   6.031936  -8.372223  -9.775468\n30   -3.616307 -11.037271  -2.396598\n18   -1.861749 -11.685501  -3.670807\n12   -4.668380 -12.413045  -9.300786\n139  -2.945008  -9.525197  -7.950963\n115  -8.390458  -3.624585  -6.586429",
      "text/html": "<div>\n<style scoped>\n    .dataframe tbody tr th:only-of-type {\n        vertical-align: middle;\n    }\n\n    .dataframe tbody tr th {\n        vertical-align: top;\n    }\n\n    .dataframe thead th {\n        text-align: right;\n    }\n</style>\n<table border=\"1\" class=\"dataframe\">\n  <thead>\n    <tr style=\"text-align: right;\">\n      <th></th>\n      <th>0</th>\n      <th>1</th>\n      <th>2</th>\n    </tr>\n  </thead>\n  <tbody>\n    <tr>\n      <th>162</th>\n      <td>10.654040</td>\n      <td>-6.226513</td>\n      <td>-10.126088</td>\n    </tr>\n    <tr>\n      <th>42</th>\n      <td>-4.091997</td>\n      <td>-8.505171</td>\n      <td>-4.977809</td>\n    </tr>\n    <tr>\n      <th>90</th>\n      <td>4.186897</td>\n      <td>-8.043284</td>\n      <td>-2.821407</td>\n    </tr>\n    <tr>\n      <th>60</th>\n      <td>-4.063294</td>\n      <td>-10.218198</td>\n      <td>-4.435619</td>\n    </tr>\n    <tr>\n      <th>114</th>\n      <td>-11.081257</td>\n      <td>5.985047</td>\n      <td>-2.827483</td>\n    </tr>\n    <tr>\n      <th>137</th>\n      <td>-4.000521</td>\n      <td>-9.466231</td>\n      <td>-7.793036</td>\n    </tr>\n    <tr>\n      <th>41</th>\n      <td>-4.721620</td>\n      <td>-7.932908</td>\n      <td>-5.138642</td>\n    </tr>\n    <tr>\n      <th>15</th>\n      <td>-2.423595</td>\n      <td>-10.980573</td>\n      <td>-2.757944</td>\n    </tr>\n    <tr>\n      <th>113</th>\n      <td>-8.355043</td>\n      <td>1.607558</td>\n      <td>-4.175419</td>\n    </tr>\n    <tr>\n      <th>108</th>\n      <td>1.431754</td>\n      <td>-10.097854</td>\n      <td>-3.548594</td>\n    </tr>\n    <tr>\n      <th>124</th>\n      <td>-5.887156</td>\n      <td>-4.930103</td>\n      <td>-6.721958</td>\n    </tr>\n    <tr>\n      <th>82</th>\n      <td>9.881183</td>\n      <td>-4.890959</td>\n      <td>-5.009286</td>\n    </tr>\n    <tr>\n      <th>78</th>\n      <td>10.058505</td>\n      <td>-5.782033</td>\n      <td>-2.037945</td>\n    </tr>\n    <tr>\n      <th>38</th>\n      <td>-5.813024</td>\n      <td>-8.641652</td>\n      <td>-3.979401</td>\n    </tr>\n    <tr>\n      <th>31</th>\n      <td>-2.535520</td>\n      <td>-10.724659</td>\n      <td>-2.948620</td>\n    </tr>\n    <tr>\n      <th>9</th>\n      <td>-4.682403</td>\n      <td>-11.397887</td>\n      <td>-2.103803</td>\n    </tr>\n    <tr>\n      <th>111</th>\n      <td>14.617864</td>\n      <td>-0.454262</td>\n      <td>4.569814</td>\n    </tr>\n    <tr>\n      <th>56</th>\n      <td>-6.782423</td>\n      <td>-7.888656</td>\n      <td>-3.082593</td>\n    </tr>\n    <tr>\n      <th>24</th>\n      <td>-3.672154</td>\n      <td>-11.781981</td>\n      <td>-2.734300</td>\n    </tr>\n    <tr>\n      <th>153</th>\n      <td>3.355446</td>\n      <td>-8.837876</td>\n      <td>-8.148809</td>\n    </tr>\n    <tr>\n      <th>93</th>\n      <td>11.608097</td>\n      <td>-1.836748</td>\n      <td>5.234746</td>\n    </tr>\n    <tr>\n      <th>45</th>\n      <td>-6.565735</td>\n      <td>-8.735565</td>\n      <td>-4.273526</td>\n    </tr>\n    <tr>\n      <th>146</th>\n      <td>-3.598079</td>\n      <td>-9.891096</td>\n      <td>-8.390486</td>\n    </tr>\n    <tr>\n      <th>29</th>\n      <td>-3.730926</td>\n      <td>-10.641864</td>\n      <td>-2.379062</td>\n    </tr>\n    <tr>\n      <th>55</th>\n      <td>-3.719192</td>\n      <td>-8.125686</td>\n      <td>-3.513617</td>\n    </tr>\n    <tr>\n      <th>65</th>\n      <td>-5.644650</td>\n      <td>-11.444768</td>\n      <td>-3.054419</td>\n    </tr>\n    <tr>\n      <th>143</th>\n      <td>9.125423</td>\n      <td>-5.798023</td>\n      <td>-10.565587</td>\n    </tr>\n    <tr>\n      <th>19</th>\n      <td>-4.157630</td>\n      <td>-11.564577</td>\n      <td>-2.230668</td>\n    </tr>\n    <tr>\n      <th>16</th>\n      <td>-3.334260</td>\n      <td>-12.319924</td>\n      <td>-3.173884</td>\n    </tr>\n    <tr>\n      <th>141</th>\n      <td>6.031936</td>\n      <td>-8.372223</td>\n      <td>-9.775468</td>\n    </tr>\n    <tr>\n      <th>30</th>\n      <td>-3.616307</td>\n      <td>-11.037271</td>\n      <td>-2.396598</td>\n    </tr>\n    <tr>\n      <th>18</th>\n      <td>-1.861749</td>\n      <td>-11.685501</td>\n      <td>-3.670807</td>\n    </tr>\n    <tr>\n      <th>12</th>\n      <td>-4.668380</td>\n      <td>-12.413045</td>\n      <td>-9.300786</td>\n    </tr>\n    <tr>\n      <th>139</th>\n      <td>-2.945008</td>\n      <td>-9.525197</td>\n      <td>-7.950963</td>\n    </tr>\n    <tr>\n      <th>115</th>\n      <td>-8.390458</td>\n      <td>-3.624585</td>\n      <td>-6.586429</td>\n    </tr>\n  </tbody>\n</table>\n</div>"
     },
     "execution_count": 149,
     "metadata": {},
     "output_type": "execute_result"
    }
   ],
   "source": [
    "X_test_pca = my_pca.transform(X_test)\n",
    "X_test_pca"
   ],
   "metadata": {
    "collapsed": false,
    "ExecuteTime": {
     "end_time": "2024-03-10T18:58:24.973347Z",
     "start_time": "2024-03-10T18:58:24.968405Z"
    }
   },
   "id": "358741db56365b7f",
   "execution_count": 149
  },
  {
   "cell_type": "markdown",
   "source": [
    "## Model"
   ],
   "metadata": {
    "collapsed": false
   },
   "id": "e83ed5dced87c395"
  },
  {
   "cell_type": "code",
   "outputs": [],
   "source": [
    "from sklearn.ensemble import RandomForestClassifier\n",
    "\n",
    "rf_model = RandomForestClassifier(n_estimators=100, random_state=42).fit(X_train_pca, y_train)"
   ],
   "metadata": {
    "collapsed": false,
    "ExecuteTime": {
     "end_time": "2024-03-10T18:58:25.061463Z",
     "start_time": "2024-03-10T18:58:25.009498Z"
    }
   },
   "id": "bc38b88eed66a02c",
   "execution_count": 150
  },
  {
   "cell_type": "code",
   "outputs": [
    {
     "data": {
      "text/plain": "array([0, 1, 0, 1, 0, 0, 1, 1, 0, 0, 0, 0, 0, 1, 1, 1, 0, 1, 1, 0, 0, 1,\n       0, 1, 1, 1, 0, 1, 1, 0, 1, 1, 0, 0, 0])"
     },
     "execution_count": 151,
     "metadata": {},
     "output_type": "execute_result"
    }
   ],
   "source": [
    "pred = rf_model.predict(X_test_pca)\n",
    "pred"
   ],
   "metadata": {
    "collapsed": false,
    "ExecuteTime": {
     "end_time": "2024-03-10T18:58:25.067467Z",
     "start_time": "2024-03-10T18:58:25.062434Z"
    }
   },
   "id": "85127ed8140b272b",
   "execution_count": 151
  },
  {
   "cell_type": "markdown",
   "source": [
    "## Evaluasi"
   ],
   "metadata": {
    "collapsed": false
   },
   "id": "caf072f6c7008f49"
  },
  {
   "cell_type": "code",
   "outputs": [
    {
     "data": {
      "text/plain": "0.9714285714285714"
     },
     "execution_count": 152,
     "metadata": {},
     "output_type": "execute_result"
    }
   ],
   "source": [
    "from sklearn.metrics import accuracy_score\n",
    "\n",
    "score = accuracy_score(y_test, pred)\n",
    "score"
   ],
   "metadata": {
    "collapsed": false,
    "ExecuteTime": {
     "end_time": "2024-03-10T18:58:25.092844Z",
     "start_time": "2024-03-10T18:58:25.090095Z"
    }
   },
   "id": "156d253859de2e28",
   "execution_count": 152
  }
 ],
 "metadata": {
  "kernelspec": {
   "display_name": "Python 3",
   "language": "python",
   "name": "python3"
  },
  "language_info": {
   "codemirror_mode": {
    "name": "ipython",
    "version": 2
   },
   "file_extension": ".py",
   "mimetype": "text/x-python",
   "name": "python",
   "nbconvert_exporter": "python",
   "pygments_lexer": "ipython2",
   "version": "2.7.6"
  }
 },
 "nbformat": 4,
 "nbformat_minor": 5
}
